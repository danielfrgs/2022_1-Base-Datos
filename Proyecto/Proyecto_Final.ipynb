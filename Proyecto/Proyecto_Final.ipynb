{
 "cells": [
  {
   "cell_type": "code",
   "execution_count": 125,
   "metadata": {},
   "outputs": [],
   "source": [
    "# Importación de librerias:\n",
    "import redis\n",
    "import hashlib\n",
    "import requests\n",
    "import json\n",
    "import geopy.distance\n",
    "import pymongo\n",
    "from pymongo import MongoClient\n",
    "import time\n",
    "import airportsdata\n",
    "import pandas as pd\n",
    "import datetime"
   ]
  },
  {
   "cell_type": "code",
   "execution_count": 7,
   "metadata": {},
   "outputs": [],
   "source": [
    "r = redis.Redis(host='127.0.0.1', port=6379, db=0)"
   ]
  },
  {
   "cell_type": "code",
   "execution_count": 49,
   "metadata": {},
   "outputs": [],
   "source": [
    "client = MongoClient()\n",
    "db = client.proyecto\n",
    "vuelos = db.vuelos"
   ]
  },
  {
   "cell_type": "code",
   "execution_count": 15,
   "metadata": {},
   "outputs": [],
   "source": [
    "# Generamos la función que especifique el estatus del vuelo.\n",
    "\n",
    "def status(coords_2):\n",
    "    coords_1 = (19.436111, -99.071944)\n",
    "    dis =  geopy.distance.geodesic(coords_1, coords_2).km\n",
    "    if dis < 20:\n",
    "        return('L')\n",
    "    else:\n",
    "        return('A')"
   ]
  },
  {
   "cell_type": "code",
   "execution_count": 140,
   "metadata": {},
   "outputs": [],
   "source": [
    "def ingresa(air_code, maxflights):\n",
    "    \n",
    "    airports = airportsdata.load('IATA')  # key is IATA code\n",
    "    \n",
    "    # Conexión a API\n",
    "    url = 'https://api.flightstats.com/flex/flightstatus/rest/v2/json/airport/tracks/'\n",
    "    appkey = 'fd2a2f47db6ed8f21988112c693c5d38'\n",
    "    appid = '13f54a6b'\n",
    "    maxflights = str(maxflights)\n",
    "    url_req = url + air_code + '/arr?appId=' + appid + '&appKey=' + appkey + '%09&includeFlightPlan=false&maxPositions=1&maxFlights=' + maxflights\n",
    "    \n",
    "    response = requests.request(\"GET\", url_req).json()\n",
    "    \n",
    "    for ubi in response['flightTracks']:\n",
    "        # Extracción de datos\n",
    "        id = str(ubi['flightId'])\n",
    "        avion = ubi['callsign']\n",
    "        lat = str(ubi['positions'][0]['lat'])\n",
    "        long = str(ubi['positions'][0]['lon'])\n",
    "        time = ubi['positions'][0]['date']\n",
    "        velocidad = ubi['positions'][0]['speedMph']\n",
    "        from_ = ubi['departureAirportFsCode']\n",
    "        try:\n",
    "            retraso = Diccionario['delayMinutes']\n",
    "        except:\n",
    "            retraso = 0\n",
    "            \n",
    "         # Ingreso a base de datos temporal\n",
    "        if status((lat, long)) == 'A':\n",
    "            r.set(id+':avion', avion)\n",
    "            r.set(id+':lat', lat)\n",
    "            r.set(id+':long', long)\n",
    "            r.set(id+':time', time)\n",
    "            r.set(id+':velocidad', velocidad)\n",
    "            r.set(id+':from', from_)\n",
    "            r.set(id+':retraso', retraso)\n",
    "            \n",
    "        if status((lat, long)) == 'L':\n",
    "            r.delete(id+':avion', id+':lat', id+':long', id+':time', id+':velocidad', id+':from', id+':retraso')\n",
    "            \n",
    "            # Ingreso a base de datos histórica\n",
    "            if len(list(vuelos.find({'_id':id}))) == 0:\n",
    "                time = datetime.datetime.strptime(time[:-5], '%Y-%m-%dT%H:%M:%S')\n",
    "                datos = {'_id': id, 'avion': avion, 'from': from_, 'retraso': retraso, 'time': time, 'ciudad':airports[from_]['city'],\n",
    "                        'pais':airports[from_]['country']}\n",
    "                vuelos.insert_one(datos)\n"
   ]
  },
  {
   "cell_type": "code",
   "execution_count": 141,
   "metadata": {},
   "outputs": [],
   "source": [
    "# Iniciamos la simulación del flujo\n",
    "\n",
    "def flujo(sleep, total):\n",
    "    t = time.time()\n",
    "    while True:\n",
    "        ingresa('MEX', 100)\n",
    "        time.sleep(sleep)\n",
    "        if (time.time() - t) > total:\n",
    "           break"
   ]
  },
  {
   "cell_type": "code",
   "execution_count": 142,
   "metadata": {},
   "outputs": [],
   "source": [
    "flujo(30,60)\n",
    "\n",
    "# Checar input de fecha en mongos"
   ]
  },
  {
   "cell_type": "code",
   "execution_count": null,
   "metadata": {},
   "outputs": [],
   "source": [
    "# Consultas histórica:\n",
    "# Promedio de delay de todo +\n",
    "# Delay por aeropueto +\n",
    "# Delay por pais +\n",
    "# Delay por tiempo +\n",
    "# De qué aeropuerto vienen más +\n",
    "# Hora (tiempo) de llegada más común + \n",
    "\n",
    "# Conultas actuales\n",
    "# Mapa tiempo real\n",
    "# Aviones más rápidos actuales +"
   ]
  },
  {
   "cell_type": "code",
   "execution_count": 151,
   "metadata": {},
   "outputs": [],
   "source": [
    "def promedio_retraso(tipo='Todo'):\n",
    "    if tipo == 'Todo':\n",
    "        return list(vuelos.aggregate([{'$group':{'_id':None, 'promedio':{'$avg':'$retraso'}}}]))[0]['promedio']\n",
    "    if tipo == 'Aeropuerto':\n",
    "        consulta = pd.DataFrame(list(vuelos.aggregate([{'$group':{'_id':'$from', 'promedio':{'$avg':'$retraso'}}}])))\n",
    "        consulta.columns = ['Aeropuerto', 'Promedio']\n",
    "        return consulta\n",
    "    if tipo == 'Pais':\n",
    "        consulta = pd.DataFrame(list(vuelos.aggregate([{'$group':{'_id':'$pais', 'promedio':{'$avg':'$retraso'}}}])))\n",
    "        consulta.columns = ['Pais', 'Promedio']\n",
    "        return consulta\n",
    "    if tipo == 'Hora':  \n",
    "        consulta = pd.DataFrame(list(vuelos.aggregate([{'$group':{'_id':{'$hour':'$time'}, 'promedio':{'$avg':'$retraso'}}}])))\n",
    "        consulta.columns = ['Hora', 'Promedio']\n",
    "        return consulta\n"
   ]
  },
  {
   "cell_type": "code",
   "execution_count": 157,
   "metadata": {},
   "outputs": [],
   "source": [
    "def llegadas(tipo = 'Aeropuerto'):\n",
    "    if tipo == 'Aeropuerto':\n",
    "        consulta = pd.DataFrame(list(vuelos.aggregate([{'$group':{'_id':'$from', 'cuenta':{'$count':{}}}}])))\n",
    "        consulta.columns = ['Aeropuerto', 'Cuenta']\n",
    "        return consulta\n",
    "    if tipo == 'Hora':\n",
    "        consulta = pd.DataFrame(list(vuelos.aggregate([{'$group':{'_id':{'$hour':'$time'}, 'cuenta':{'$count':{}}}}])))\n",
    "        consulta.columns = ['Aeropuerto', 'Cuenta']\n",
    "        return consulta\n",
    "    "
   ]
  },
  {
   "cell_type": "code",
   "execution_count": 161,
   "metadata": {},
   "outputs": [],
   "source": [
    "def consulta_categoria(categoria):\n",
    "    patron = '*' + categoria + '*'\n",
    "    for key in r.scan_iter(patron):\n",
    "        print(key)\n",
    "        print(r.get(key))"
   ]
  },
  {
   "cell_type": "code",
   "execution_count": 208,
   "metadata": {},
   "outputs": [],
   "source": [
    "def speed(limit = 10, rapidos=True):\n",
    "    assert isinstance(rapidos, bool), 'Variable rapidos debe ser boolena'\n",
    "    dicc = {}\n",
    "    \n",
    "    velo = '*velocidad*'\n",
    "    for key in r.scan_iter(velo):\n",
    "        dicc[key[:-10].decode(\"utf-8\") ] = [r.get(key).decode(\"utf-8\")]\n",
    "        \n",
    "    avion = '*avion*'\n",
    "    for key in r.scan_iter(avion):\n",
    "        dicc[key[:-6].decode(\"utf-8\") ].append(r.get(key).decode(\"utf-8\"))\n",
    "        \n",
    "    if rapidos:\n",
    "        return sorted(list(dicc.values()), reverse=True)[:limit]\n",
    "    else:\n",
    "         return sorted(list(dicc.values()), reverse=False)[:limit]\n"
   ]
  },
  {
   "cell_type": "code",
   "execution_count": 217,
   "metadata": {},
   "outputs": [],
   "source": [
    "def lat_long():\n",
    "    dicc = {}\n",
    "    \n",
    "    lat = '*lat*'\n",
    "    for key in r.scan_iter(lat):\n",
    "        dicc[key[:-4].decode(\"utf-8\") ] = [r.get(key).decode(\"utf-8\")]\n",
    "        \n",
    "    long = '*long*'\n",
    "    for key in r.scan_iter(long):\n",
    "        dicc[key[:-5].decode(\"utf-8\") ].append(r.get(key).decode(\"utf-8\"))\n",
    "        \n",
    "    avion = '*avion*'\n",
    "    for key in r.scan_iter(avion):\n",
    "        dicc[key[:-6].decode(\"utf-8\") ].append(r.get(key).decode(\"utf-8\"))\n",
    "        \n",
    "    return dicc\n"
   ]
  },
  {
   "cell_type": "code",
   "execution_count": 218,
   "metadata": {},
   "outputs": [
    {
     "data": {
      "text/plain": [
       "{'1094308632': ['11.9623', '-87.2061', 'AMX691'],\n",
       " '1094308615': ['18.4047', '-97.7587', 'SLI675'],\n",
       " '1094308699': ['21.1653', '-90.5628', 'AMX831'],\n",
       " '1094374068': ['20.2954', '-97.2092', 'VOI713'],\n",
       " '1094359285': ['32.8652', '-116.0388', 'UAL1271'],\n",
       " '1094308330': ['19.2429', '-101.1785', 'AMX229'],\n",
       " '1094320786': ['23.1115', '-103.0149', 'DAL631'],\n",
       " '1094337737': ['17.0331', '-98.2366', 'LPE2472'],\n",
       " '1094308668': ['27.1599', '-99.6582', 'SLI633'],\n",
       " '1094373824': ['18.9689', '-99.314', 'VOI167'],\n",
       " '1094308618': ['32.6761', '-116.174', 'AMX645'],\n",
       " '1094373816': ['17.6694', '-99.7456', 'VOI107'],\n",
       " '1094373860': ['20.2027', '-103.152', 'VOI251'],\n",
       " '1094308290': ['21.787', '-102.1488', 'SLI165'],\n",
       " '1094364589': ['20.7101', '-90.8824', 'VIV1019'],\n",
       " '1094374222': ['19.6921', '-99.2506', 'VOI855'],\n",
       " '1094308308': ['23.2815', '-95.8574', 'AMX002'],\n",
       " '1094332187': ['37.0149', '-80.2362', 'IBE6403'],\n",
       " '1094373820': ['18.6268', '-98.0108', 'VOI137'],\n",
       " '1094308289': ['21.7806', '-101.679', 'SLI2067'],\n",
       " '1094308623': ['14.9464', '-91.1282', 'SLI671'],\n",
       " '1094308567': ['22.517', '-92.3595', 'AMX423'],\n",
       " '1094374310': ['20.5701', '-97.0882', 'VOI981'],\n",
       " '1094339657': ['47.5896', '-69.6928', 'DLH498'],\n",
       " '1094308214': ['22.27', '-100.9431', 'AMX105'],\n",
       " '1094308415': ['31.8665', '-97.2382', 'SLI2689'],\n",
       " '1094320816': ['20.0456', '-99.7229', 'DAL628'],\n",
       " '1094373897': ['29.8477', '-105.8074', 'VOI279'],\n",
       " '1094308295': ['21.4456', '-101.2936', 'AMX185'],\n",
       " '1094308629': ['23.1708', '-103.6278', 'AMX715'],\n",
       " '1094364631': ['20.8771', '-87.5275', 'VIV1031'],\n",
       " '1094374207': ['25.7332', '-103.9596', 'VOI805'],\n",
       " '1094343159': ['20.8899', '-100.6983', 'ANA180'],\n",
       " '1094314988': ['9.2376', '-79.613', 'CMP136'],\n",
       " '1094310616': ['13.8139', '-88.3982', 'LRC632'],\n",
       " '1094308391': ['18.8004', '-98.7917', 'SLI2697'],\n",
       " '1094308585': ['14.6849', '-91.0615', 'SLI629'],\n",
       " '1094350084': ['37.6921', '141.9821', 'QTR8916'],\n",
       " '1094312918': ['53.5561', '-34.9678', 'BAW243'],\n",
       " '1094308312': ['31.5479', '-113.5722', 'AMX199'],\n",
       " '1094308357': ['21.6617', '-100.6681', 'SLI143'],\n",
       " '1094308576': ['20.7793', '-93.8952', 'AMX525'],\n",
       " '1094365039': ['16.0517', '-94.3123', 'VVC478'],\n",
       " '1094308737': ['25.2822', '-100.0284', 'AMX931'],\n",
       " '1094308276': ['6.0385', '-76.1874', 'AMX15'],\n",
       " '1094308484': ['28.029', '-96.1831', 'AMX419'],\n",
       " '1094336942': ['48.0162', '-66.4742', 'KLM685'],\n",
       " '1094303132': ['24.2668', '-104.2549', 'AAL501'],\n",
       " '1094373803': ['23.1601', '-106.9813', 'VOI149'],\n",
       " '1094364739': ['12.1905', '-87.4447', 'VIV281'],\n",
       " '1094308586': ['20.6472', '-88.5219', 'AMX529'],\n",
       " '1094308497': ['20.2684', '-103.9647', 'AMX335'],\n",
       " '1094297255': ['33.9434', '-118.4083', 'TNO303'],\n",
       " '1094366102': ['19.245', '-99.112', 'TAO404'],\n",
       " '1094307057': ['34.4172', '-84.1056', 'AFR178'],\n",
       " '1094322198': ['29.5038', '-91.0285', 'UAE255'],\n",
       " '1094364720': ['7.6355', '-79.484', 'VIV193'],\n",
       " '1094373863': ['21.03', '-86.88', 'VOI223'],\n",
       " '1094308622': ['15.0136', '-91.3705', 'SLI651'],\n",
       " '1094320767': ['22.8385', '-97.7356', 'DAL602'],\n",
       " '1094310414': ['5.2407', '-75.3362', 'AVA22'],\n",
       " '1094303168': ['21.3705', '-94.6144', 'AAL505']}"
      ]
     },
     "execution_count": 218,
     "metadata": {},
     "output_type": "execute_result"
    }
   ],
   "source": [
    "lat_long()"
   ]
  },
  {
   "cell_type": "code",
   "execution_count": 214,
   "metadata": {},
   "outputs": [
    {
     "data": {
      "text/plain": [
       "[['168', 'TNO303'], ['168', 'VOI223']]"
      ]
     },
     "execution_count": 214,
     "metadata": {},
     "output_type": "execute_result"
    }
   ],
   "source": [
    "speed(2, False)"
   ]
  },
  {
   "cell_type": "code",
   "execution_count": 158,
   "metadata": {},
   "outputs": [
    {
     "data": {
      "text/html": [
       "<div>\n",
       "<style scoped>\n",
       "    .dataframe tbody tr th:only-of-type {\n",
       "        vertical-align: middle;\n",
       "    }\n",
       "\n",
       "    .dataframe tbody tr th {\n",
       "        vertical-align: top;\n",
       "    }\n",
       "\n",
       "    .dataframe thead th {\n",
       "        text-align: right;\n",
       "    }\n",
       "</style>\n",
       "<table border=\"1\" class=\"dataframe\">\n",
       "  <thead>\n",
       "    <tr style=\"text-align: right;\">\n",
       "      <th></th>\n",
       "      <th>Aeropuerto</th>\n",
       "      <th>Cuenta</th>\n",
       "    </tr>\n",
       "  </thead>\n",
       "  <tbody>\n",
       "    <tr>\n",
       "      <th>0</th>\n",
       "      <td>19</td>\n",
       "      <td>2</td>\n",
       "    </tr>\n",
       "  </tbody>\n",
       "</table>\n",
       "</div>"
      ],
      "text/plain": [
       "   Aeropuerto  Cuenta\n",
       "0          19       2"
      ]
     },
     "execution_count": 158,
     "metadata": {},
     "output_type": "execute_result"
    }
   ],
   "source": [
    "llegadas('Hora')"
   ]
  },
  {
   "cell_type": "code",
   "execution_count": 152,
   "metadata": {},
   "outputs": [
    {
     "data": {
      "text/html": [
       "<div>\n",
       "<style scoped>\n",
       "    .dataframe tbody tr th:only-of-type {\n",
       "        vertical-align: middle;\n",
       "    }\n",
       "\n",
       "    .dataframe tbody tr th {\n",
       "        vertical-align: top;\n",
       "    }\n",
       "\n",
       "    .dataframe thead th {\n",
       "        text-align: right;\n",
       "    }\n",
       "</style>\n",
       "<table border=\"1\" class=\"dataframe\">\n",
       "  <thead>\n",
       "    <tr style=\"text-align: right;\">\n",
       "      <th></th>\n",
       "      <th>Hora</th>\n",
       "      <th>Promedio</th>\n",
       "    </tr>\n",
       "  </thead>\n",
       "  <tbody>\n",
       "    <tr>\n",
       "      <th>0</th>\n",
       "      <td>19</td>\n",
       "      <td>0.0</td>\n",
       "    </tr>\n",
       "  </tbody>\n",
       "</table>\n",
       "</div>"
      ],
      "text/plain": [
       "   Hora  Promedio\n",
       "0    19       0.0"
      ]
     },
     "execution_count": 152,
     "metadata": {},
     "output_type": "execute_result"
    }
   ],
   "source": [
    "promedio_retraso('Hora')"
   ]
  }
 ],
 "metadata": {
  "kernelspec": {
   "display_name": "Python 3",
   "language": "python",
   "name": "python3"
  },
  "language_info": {
   "codemirror_mode": {
    "name": "ipython",
    "version": 3
   },
   "file_extension": ".py",
   "mimetype": "text/x-python",
   "name": "python",
   "nbconvert_exporter": "python",
   "pygments_lexer": "ipython3",
   "version": "3.8.5"
  }
 },
 "nbformat": 4,
 "nbformat_minor": 4
}

