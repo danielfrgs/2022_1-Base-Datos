{
 "cells": [
  {
   "cell_type": "code",
   "execution_count": 2,
   "metadata": {},
   "outputs": [],
   "source": [
    "import redis\n",
    "import hashlib\n",
    "r = redis.Redis(host='127.0.0.1', port=6379, db=0)"
   ]
  },
  {
   "cell_type": "code",
   "execution_count": 3,
   "metadata": {},
   "outputs": [],
   "source": [
    "def url_corta(url_larga):\n",
    "    base = hashlib.sha224(url_larga).hexdigest()[:10]\n",
    "    return 'http://TS.io/' + base, base"
   ]
  },
  {
   "cell_type": "code",
   "execution_count": 4,
   "metadata": {},
   "outputs": [],
   "source": [
    "def inserta(url,categoria,id_usuario,wishlist='no',tipo='privada'):\n",
    "    url_c = url_corta(str.encode(url))\n",
    "    llave = categoria + ':' + id_usuario + ':' + wishlist + ':' + tipo + ':'  + url_c[1]\n",
    "    r.set(llave,url)\n",
    "    return url_c[0]"
   ]
  },
  {
   "cell_type": "code",
   "execution_count": 5,
   "metadata": {},
   "outputs": [],
   "source": [
    "def inversa(url_corta,categoria,id_usuario, wishlist='no', tipo='privada'):\n",
    "    llave = categoria + ':' + id_usuario + ':' + wishlist + ':'  + tipo + ':'  + url_corta[13:]\n",
    "    return r.get(llave)"
   ]
  },
  {
   "cell_type": "code",
   "execution_count": 6,
   "metadata": {},
   "outputs": [],
   "source": [
    "def principal():\n",
    "    usuario = input('Ingrese usuario: \\n')\n",
    "    categoria = input('Ingrese categoria: \\n')\n",
    "    tipo = input('Ingrese tipo: \\n')\n",
    "    wishlist = input('¿Quiere agregarlo a la wishlist? \\n')\n",
    "    url = input('Ingrese url: \\n')\n",
    "    \n",
    "    return 'URL acortado: '+ inserta(url,categoria,usuario,wishlist,tipo)"
   ]
  },
  {
   "cell_type": "code",
   "execution_count": 7,
   "metadata": {},
   "outputs": [
    {
     "name": "stdout",
     "output_type": "stream",
     "text": [
      "Ingrese usuario: \n",
      "hugo\n",
      "Ingrese categoria: \n",
      "musica\n",
      "Ingrese tipo: \n",
      "publica\n",
      "¿Quiere agregarlo a la wishlist? \n",
      "no\n",
      "Ingrese url: \n",
      "https://open.spotify.com/track/2f0Ft2XdvNSMSY5TUlZgEz?si=623a5e8fcf8d4550\n",
      "Ingrese usuario: \n",
      "danis\n",
      "Ingrese categoria: \n",
      "musica\n",
      "Ingrese tipo: \n",
      "privada\n",
      "¿Quiere agregarlo a la wishlist? \n",
      "si\n",
      "Ingrese url: \n",
      "https://store.taylorswift.com/products/the-all-too-well-knit-scarf\n",
      "Ingrese usuario: \n",
      "kike\n",
      "Ingrese categoria: \n",
      "musica\n",
      "Ingrese tipo: \n",
      "privada\n",
      "¿Quiere agregarlo a la wishlist? \n",
      "si\n",
      "Ingrese url: \n",
      "https://open.spotify.com/artist/014WIDx7H4BRCHB1faiisK\n",
      "Ingrese usuario: \n",
      "hugo\n",
      "Ingrese categoria: \n",
      "musica\n",
      "Ingrese tipo: \n",
      "privada\n",
      "¿Quiere agregarlo a la wishlist? \n",
      "si\n",
      "Ingrese url: \n",
      "https://www.google.com/search?q=el+ansioso+grupo+marrano+spotify&rlz=1C1GCEB_enMX988MX988&oq=el+ansioso+grupo+marrano+spotify&aqs=chrome..69i57j0i546l2.10675j0j4&sourceid=chrome&ie=UTF-8\n",
      "Ingrese usuario: \n",
      "danis\n",
      "Ingrese categoria: \n",
      "musica\n",
      "Ingrese tipo: \n",
      "publica\n",
      "¿Quiere agregarlo a la wishlist? \n",
      "si\n",
      "Ingrese url: \n",
      "https://www.google.com/search?q=el+ansioso+grupo+marrano+spotify&rlz=1C1GCEB_enMX988MX988&oq=el+ansioso+grupo+marrano+spotify&aqs=chrome..69i57j0i546l2.10675j0j4&sourceid=chrome&ie=UTF-8\n",
      "Ingrese usuario: \n",
      "kike\n",
      "Ingrese categoria: \n",
      "peliculas\n",
      "Ingrese tipo: \n",
      "privada\n",
      "¿Quiere agregarlo a la wishlist? \n",
      "no\n",
      "Ingrese url: \n",
      "https://twitter.com/nicsart_/status/1500454664025763840\n",
      "Ingrese usuario: \n",
      "hugo\n",
      "Ingrese categoria: \n",
      "peliculas\n",
      "Ingrese tipo: \n",
      "publica\n",
      "¿Quiere agregarlo a la wishlist? \n",
      "si\n",
      "Ingrese url: \n",
      "https://twitter.com/juanpaxty/status/1500605761461829635\n",
      "Ingrese usuario: \n",
      "danis\n",
      "Ingrese categoria: \n",
      "peliculas\n",
      "Ingrese tipo: \n",
      "publica\n",
      "¿Quiere agregarlo a la wishlist? \n",
      "si\n",
      "Ingrese url: \n",
      "https://www.google.com/url?sa=t&rct=j&q=&esrc=s&source=web&cd=&cad=rja&uact=8&ved=2ahUKEwiUqZmq37L2AhVLIEQIHf76AwYQFnoECAwQAQ&url=https%3A%2F%2Fwww.disneyplus.com%2Fes-419%2Fmovies%2Ffolklore-sesiones-en-long-pond-studio%2F3Xlc0EjKtKpp&usg=AOvVaw3mG9T-C1lxH-irxCz-oNvh\n",
      "Ingrese usuario: \n",
      "kike\n",
      "Ingrese categoria: \n",
      "peliculas\n",
      "Ingrese tipo: \n",
      "privada\n",
      "¿Quiere agregarlo a la wishlist? \n",
      "no\n",
      "Ingrese url: \n",
      "https://wvw.cuevana3.live/pelicula/the-shawshank-redemption-5730/\n",
      "Ingrese usuario: \n",
      "hugo\n",
      "Ingrese categoria: \n",
      "profesores\n",
      "Ingrese tipo: \n",
      "publica\n",
      "¿Quiere agregarlo a la wishlist? \n",
      "si\n",
      "Ingrese url: \n",
      "https://cienciadatos.iimas.unam.mx/profesores/pilarang/\n",
      "Ingrese usuario: \n",
      "danis\n",
      "Ingrese categoria: \n",
      "profesores\n",
      "Ingrese tipo: \n",
      "privada\n",
      "¿Quiere agregarlo a la wishlist? \n",
      "no\n",
      "Ingrese url: \n",
      "https://www.cch.unam.mx/comunicacion/sites/www.cch.unam.mx.comunicacion/files/gacetas/2019/06/1534030619.pdf\n",
      "Ingrese usuario: \n",
      "kike\n",
      "Ingrese categoria: \n",
      "profesores\n",
      "Ingrese tipo: \n",
      "privada\n",
      "¿Quiere agregarlo a la wishlist? \n",
      "si\n",
      "Ingrese url: \n",
      "https://www.misprofesores.com/profesores/Sebastian-Najera-Valencia_74831\n",
      "Ingrese usuario: \n",
      "hugo\n",
      "Ingrese categoria: \n",
      "profesores\n",
      "Ingrese tipo: \n",
      "privada\n",
      "¿Quiere agregarlo a la wishlist? \n",
      "si\n",
      "Ingrese url: \n",
      "https://web.whatsapp.com/\n",
      "Ingrese usuario: \n",
      "danis\n",
      "Ingrese categoria: \n",
      "profesores\n",
      "Ingrese tipo: \n",
      "publica\n",
      "¿Quiere agregarlo a la wishlist? \n",
      "si\n",
      "Ingrese url: \n",
      "https://blog.nekomath.com/los-tfc-teoremas-fundamentales-de-los-cuadraditos/\n",
      "Ingrese usuario: \n",
      "kike\n",
      "Ingrese categoria: \n",
      "profesores\n",
      "Ingrese tipo: \n",
      "privada\n",
      "¿Quiere agregarlo a la wishlist? \n",
      "no\n",
      "Ingrese url: \n",
      "https://www.facebook.com/opcionestecnicascch/posts/1832765063507153\n",
      "Ingrese usuario: \n",
      "hugo\n",
      "Ingrese categoria: \n",
      "ciencia\n",
      "Ingrese tipo: \n",
      "publica\n",
      "¿Quiere agregarlo a la wishlist? \n",
      "no\n",
      "Ingrese url: \n",
      "https://www.google.com/search?q=Los+ping%C3%BCinos+tienen+rodillas&rlz=1C1GCEB_enMX988MX988&oq=Los+ping%C3%BCinos+tienen+rodillas&aqs=chrome..69i57.7897j0j4&sourceid=chrome&ie=UTF-8\n",
      "Ingrese usuario: \n",
      "danis\n",
      "Ingrese categoria: \n",
      "ciencia\n",
      "Ingrese tipo: \n",
      "privada\n",
      "¿Quiere agregarlo a la wishlist? \n",
      "si\n",
      "Ingrese url: \n",
      "https://www.science.org/content/article/five-reasons-graduate-programs-reject-stellar-applicants\n",
      "Ingrese usuario: \n",
      "kike \n",
      "Ingrese categoria: \n",
      "ciencia\n",
      "Ingrese tipo: \n",
      "privada\n",
      "¿Quiere agregarlo a la wishlist? \n",
      "no\n",
      "Ingrese url: \n",
      "https://www.infobae.com/salud/ciencia/2017/06/07/la-ciencia-confirmo-el-verdadero-color-de-los-misteriosos-agujeros-negros/\n",
      "Ingrese usuario: \n",
      "hugo\n",
      "Ingrese categoria: \n",
      "ciencia\n",
      "Ingrese tipo: \n",
      "publica\n",
      "¿Quiere agregarlo a la wishlist? \n",
      "no\n",
      "Ingrese url: \n",
      "https://tecnologar.com/grounded-guide-como-encontrar-y-acceder-al-laboratorio-secreto-de-koi-pond/\n",
      "Ingrese usuario: \n",
      "danis\n",
      "Ingrese categoria: \n",
      "ciencia\n",
      "Ingrese tipo: \n",
      "publica\n",
      "¿Quiere agregarlo a la wishlist? \n",
      "si\n",
      "Ingrese url: \n",
      "https://conacyt.mx/wp-content/uploads/transparencia/proteccion_datos_personales/normatividad/Acuerdo_mediante_el_cual_se_aprueban_Anexo_7.pdf\n"
     ]
    }
   ],
   "source": [
    "for i in range(20):\n",
    "    principal()"
   ]
  },
  {
   "cell_type": "code",
   "execution_count": 8,
   "metadata": {},
   "outputs": [],
   "source": [
    "def consulta_categoria(categoria):\n",
    "    patron = '*' + categoria + '*'\n",
    "    for key in r.scan_iter(patron):\n",
    "        print(r.get(key))"
   ]
  },
  {
   "cell_type": "code",
   "execution_count": 9,
   "metadata": {},
   "outputs": [
    {
     "name": "stdout",
     "output_type": "stream",
     "text": [
      "b'https://store.taylorswift.com/products/the-all-too-well-knit-scarf'\n",
      "b'https://www.google.com/search?q=el+ansioso+grupo+marrano+spotify&rlz=1C1GCEB_enMX988MX988&oq=el+ansioso+grupo+marrano+spotify&aqs=chrome..69i57j0i546l2.10675j0j4&sourceid=chrome&ie=UTF-8'\n",
      "b'https://open.spotify.com/track/2f0Ft2XdvNSMSY5TUlZgEz?si=623a5e8fcf8d4550'\n",
      "b'https://open.spotify.com/artist/014WIDx7H4BRCHB1faiisK'\n",
      "b'https://www.google.com/search?q=el+ansioso+grupo+marrano+spotify&rlz=1C1GCEB_enMX988MX988&oq=el+ansioso+grupo+marrano+spotify&aqs=chrome..69i57j0i546l2.10675j0j4&sourceid=chrome&ie=UTF-8'\n"
     ]
    }
   ],
   "source": [
    "consulta_categoria('musica')"
   ]
  },
  {
   "cell_type": "code",
   "execution_count": 17,
   "metadata": {},
   "outputs": [],
   "source": [
    "def consulta_wishlist(usuario):\n",
    "    patron = '*' + usuario + ':si*'\n",
    "    for key in r.scan_iter(patron):\n",
    "        print(r.get(key))"
   ]
  },
  {
   "cell_type": "code",
   "execution_count": 18,
   "metadata": {},
   "outputs": [
    {
     "name": "stdout",
     "output_type": "stream",
     "text": [
      "b'https://www.misprofesores.com/profesores/Sebastian-Najera-Valencia_74831'\n",
      "b'https://open.spotify.com/artist/014WIDx7H4BRCHB1faiisK'\n"
     ]
    }
   ],
   "source": [
    "consulta_wishlist('kike')"
   ]
  },
  {
   "cell_type": "code",
   "execution_count": 12,
   "metadata": {},
   "outputs": [
    {
     "name": "stdout",
     "output_type": "stream",
     "text": [
      "Ingrese usuario: \n",
      "kike\n",
      "Ingrese categoria: \n",
      "ciencia\n",
      "Ingrese tipo: \n",
      "privada\n",
      "¿Quiere agregarlo a la wishlist? \n",
      "no\n",
      "Ingrese url: \n",
      "http://www.awongcm.io/blog/2018/01/20/made-url-shortener-tool-using-python-slash-redis/\n"
     ]
    },
    {
     "data": {
      "text/plain": [
       "'URL acortado: http://TS.io/65ab51ca7f'"
      ]
     },
     "execution_count": 12,
     "metadata": {},
     "output_type": "execute_result"
    }
   ],
   "source": [
    "principal()"
   ]
  },
  {
   "cell_type": "code",
   "execution_count": 14,
   "metadata": {},
   "outputs": [
    {
     "data": {
      "text/plain": [
       "b'http://www.awongcm.io/blog/2018/01/20/made-url-shortener-tool-using-python-slash-redis/'"
      ]
     },
     "execution_count": 14,
     "metadata": {},
     "output_type": "execute_result"
    }
   ],
   "source": [
    "inversa('http://TS.io/65ab51ca7f','ciencia','kike', 'no','privada')"
   ]
  },
  {
   "cell_type": "code",
   "execution_count": null,
   "metadata": {},
   "outputs": [],
   "source": []
  }
 ],
 "metadata": {
  "kernelspec": {
   "display_name": "Python 3",
   "language": "python",
   "name": "python3"
  },
  "language_info": {
   "codemirror_mode": {
    "name": "ipython",
    "version": 3
   },
   "file_extension": ".py",
   "mimetype": "text/x-python",
   "name": "python",
   "nbconvert_exporter": "python",
   "pygments_lexer": "ipython3",
   "version": "3.9.10"
  }
 },
 "nbformat": 4,
 "nbformat_minor": 4
}
