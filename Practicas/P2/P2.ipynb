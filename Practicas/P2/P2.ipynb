{
 "cells": [
  {
   "cell_type": "code",
   "execution_count": 1,
   "metadata": {},
   "outputs": [],
   "source": [
    "# Instalamos el driver de cassandra\n",
    "# sudo pip install cassandra-driver"
   ]
  },
  {
   "cell_type": "code",
   "execution_count": 13,
   "metadata": {},
   "outputs": [
    {
     "ename": "NoHostAvailable",
     "evalue": "('Unable to connect to any servers', {'0.0.0.0:9042': ConnectionShutdown('Connection to 0.0.0.0:9042 was closed')})",
     "output_type": "error",
     "traceback": [
      "\u001b[0;31m---------------------------------------------------------------------------\u001b[0m",
      "\u001b[0;31mNoHostAvailable\u001b[0m                           Traceback (most recent call last)",
      "\u001b[0;32m/var/folders/7n/jy1_ycd91snbbhld0x37jht80000gn/T/ipykernel_97609/6273050.py\u001b[0m in \u001b[0;36m<module>\u001b[0;34m\u001b[0m\n\u001b[1;32m     26\u001b[0m \u001b[0;34m\u001b[0m\u001b[0m\n\u001b[1;32m     27\u001b[0m \u001b[0;31m# Generar la conexión\u001b[0m\u001b[0;34m\u001b[0m\u001b[0;34m\u001b[0m\u001b[0m\n\u001b[0;32m---> 28\u001b[0;31m \u001b[0msession\u001b[0m \u001b[0;34m=\u001b[0m \u001b[0mcluster\u001b[0m\u001b[0;34m.\u001b[0m\u001b[0mconnect\u001b[0m\u001b[0;34m(\u001b[0m\u001b[0;34m)\u001b[0m\u001b[0;34m\u001b[0m\u001b[0;34m\u001b[0m\u001b[0m\n\u001b[0m",
      "\u001b[0;32m/usr/local/lib/python3.9/site-packages/cassandra/cluster.cpython-39-darwin.so\u001b[0m in \u001b[0;36mcassandra.cluster.Cluster.connect\u001b[0;34m()\u001b[0m\n",
      "\u001b[0;32m/usr/local/lib/python3.9/site-packages/cassandra/cluster.cpython-39-darwin.so\u001b[0m in \u001b[0;36mcassandra.cluster.Cluster.connect\u001b[0;34m()\u001b[0m\n",
      "\u001b[0;32m/usr/local/lib/python3.9/site-packages/cassandra/cluster.cpython-39-darwin.so\u001b[0m in \u001b[0;36mcassandra.cluster.Cluster.connect\u001b[0;34m()\u001b[0m\n",
      "\u001b[0;32m/usr/local/lib/python3.9/site-packages/cassandra/cluster.cpython-39-darwin.so\u001b[0m in \u001b[0;36mcassandra.cluster.ControlConnection.connect\u001b[0;34m()\u001b[0m\n",
      "\u001b[0;32m/usr/local/lib/python3.9/site-packages/cassandra/cluster.cpython-39-darwin.so\u001b[0m in \u001b[0;36mcassandra.cluster.ControlConnection._reconnect_internal\u001b[0;34m()\u001b[0m\n",
      "\u001b[0;31mNoHostAvailable\u001b[0m: ('Unable to connect to any servers', {'0.0.0.0:9042': ConnectionShutdown('Connection to 0.0.0.0:9042 was closed')})"
     ]
    }
   ],
   "source": [
    "# Vamos a importar\n",
    "from cassandra.cluster import Cluster\n",
    "# Vamos a conectarno a la base de datos:\n",
    "\n",
    "## Iniciareos el contenedor de Docker con la iagen de cassandra:\n",
    "'''\n",
    "docker pull cassandra\n",
    "\n",
    "Cluster: Para esta práctica solo usaremos un nodo\n",
    "docker run --name prac2_a -p 9042:9042 -e CASSANDRA_CLUSTER_NAME=MyCluster -e CASSANDRA_ENDPOINT_SNITCH=GossipingPropertyFileSnitch -e CASSANDRA_DC=datacenter1 -d cassandra\n",
    "\n",
    "docker run --name prac2 -p 9042:9042 -e CASSANDRA_CLUSTER_NAME=MyCluster -e CASSANDRA_ENDPOINT_SNITCH=GossipingPropertyFileSnitch -e CASSANDRA_DC=datacenter1 -d imagen-cassandra\n",
    "\n",
    "docker run --name prac2 -p 192.168.99.100:9042 -e CASSANDRA_CLUSTER_NAME=MyCluster -e CASSANDRA_ENDPOINT_SNITCH=GossipingPropertyFileSnitch -e CASSANDRA_DC=datacenter1 -d imagen-cassandra\n",
    "\n",
    "Conexión:\n",
    "docker exec -it prac2 bash\n",
    "\n",
    "Información del Nodo:\n",
    "nodetool status\n",
    "\n",
    "'''\n",
    "# Indicación de nuestra imagen\n",
    "\n",
    "cluster = Cluster(contact_points=['0.0.0.0'], port=9042)\n",
    "\n",
    "# Generar la conexión\n",
    "session = cluster.connect()"
   ]
  },
  {
   "cell_type": "code",
   "execution_count": null,
   "metadata": {},
   "outputs": [],
   "source": [
    "'''\n",
    "Creación del KEYSPACE:  que vamos a llamar peliculas\n",
    "y le vamos a poner una estrategia de replicación de tipo \n",
    "SimpleStrategy y con un factor de replicación igual a 1.\n",
    "'''\n",
    "session.execute(\"\"\"CREATE KEYSPACE base_datos WITH replication = {'class' : 'SimpleStrategy', 'replication_factor':1};\"\"\")\n"
   ]
  },
  {
   "cell_type": "markdown",
   "metadata": {},
   "source": [
    "### Creación de la Tablas."
   ]
  },
  {
   "cell_type": "code",
   "execution_count": null,
   "metadata": {},
   "outputs": [],
   "source": [
    "# Seleccionamos el KEYSPACE\n",
    "session.set_keyspace('base_datos')"
   ]
  },
  {
   "cell_type": "code",
   "execution_count": null,
   "metadata": {},
   "outputs": [],
   "source": [
    "# Creamos la tabla\n",
    "session.execute(\"\"\"\n",
    "                CREATE TABLE resenas (\n",
    "                    membresia int,\n",
    "                    id_libro int,\n",
    "                    titulo text,\n",
    "                    autor text, \n",
    "                    categoria text,\n",
    "                    calificacion float,\n",
    "                    nombre text STATIC,\n",
    "                    a_p text STATIC,\n",
    "                    a_m text STATIC,\n",
    "                    pais text STATIC,\n",
    "                    fechnac date STATIC,\n",
    "                    PRIMARY KEY (membresia, id_libro));\n",
    "                \"\"\")\n"
   ]
  },
  {
   "cell_type": "code",
   "execution_count": null,
   "metadata": {},
   "outputs": [],
   "source": [
    "'''\n",
    "Podemos consultar las tablas creadas con:\n",
    "DESCRIBE tables\n",
    "\n",
    "Vamos a activar la vista materialziada\n",
    "\n",
    "'''\n",
    "\n",
    "# Creamos la vista materializada\n",
    "session.execute(\"\"\"\n",
    "                CREATE MATERIALIZED VIEW top AS SELECT\n",
    "                membresia, id_libro, categoria, calificacion, titulo, autor\n",
    "                FROM resenas WHERE membresia IS NOT NULL AND id_libro IS NOT NULL AND\n",
    "                categoria IS NOT NULL AND calificacion IS NOT NULL AND titulo IS NOT NULL AND \n",
    "                autor IS NOT NULL PRIMARY KEY (categoria, id_libro, membresia);\n",
    "                \"\"\")"
   ]
  },
  {
   "cell_type": "code",
   "execution_count": null,
   "metadata": {},
   "outputs": [],
   "source": [
    "'''\n",
    "Ingresamos los datos:\n",
    "INSERT INTO resenas(membresia,id_libro,titulo,autor,categoria,calificacion,nombre,a_p,a_m,pais,fechnac) VALUES (61682,5,'100 años de soledad','Gabriel García Marquez','Realismo Mágico',5.00,'Daniel','Fragoso','Alvarado','Mexico','2000-08-16');\n",
    "INSERT INTO resenas(membresia,id_libro,titulo,autor,categoria,calificacion,nombre,a_p,a_m,pais,fechnac) VALUES (61683,6,'La casa de Bernarda Alba','Federico García Lorca','Autobiografía',5.00,'Enrique','Gómez','Martinez','Mexico','1999-07-10');\n",
    "INSERT INTO resenas(membresia,id_libro,titulo,autor,categoria,calificacion,nombre,a_p,a_m,pais,fechnac) VALUES (61684,7,'Una educación','Tara Westover','Ciencia Ficcion',5.00,'Hugo','Rangel','Ramirez','Mexico','2000-04-06');\n",
    "INSERT INTO resenas(membresia,id_libro,titulo,autor,categoria,calificacion,nombre,a_p,a_m,pais,fechnac) VALUES (61683,8,'Do androids dream of electric sheep?','Philip K. Dick','Novela',4.00,'Enrique','Gómez','Martinez','Mexico','1999-07-10');\n",
    "INSERT INTO resenas(membresia,id_libro,titulo,autor,categoria,calificacion,nombre,a_p,a_m,pais,fechnac) VALUES (61684,9,'Solo quedó nuestra historia','Adam Silvera','Cuento',3.00,'Hugo','Rangel','Ramirez','Mexico','2000-04-06');\n",
    "INSERT INTO resenas(membresia,id_libro,titulo,autor,categoria,calificacion,nombre,a_p,a_m,pais,fechnac) VALUES (61684,10,'El Tapiz Amarillo','Charlotte Perkins Gilman','Novela',4.00,'Hugo','Gómez','Martinez','Mexico','2000-04-06');\n",
    "INSERT INTO resenas(membresia,id_libro,titulo,autor,categoria,calificacion,nombre,a_p,a_m,pais,fechnac) VALUES (61683,11,'Lazarillo de Tormes','NULL','Novela',1.00,'Enrique','Gómez','Martinez','Mexico','1999-07-10');\n",
    "INSERT INTO resenas(membresia,id_libro,titulo,autor,categoria,calificacion,nombre,a_p,a_m,pais,fechnac) VALUES (61682,12,'La cancion de Aquiles','Madeline Miller','Novela',5.00,'Daniel','Fragoso','Alvarado','Mexico','2000-08-16');\n",
    "INSERT INTO resenas(membresia,id_libro,titulo,autor,categoria,calificacion,nombre,a_p,a_m,pais,fechnac) VALUES (61683,13,'Doña Perfecta','Benito Pérez Galdós','Cuento',4.00,'Enrique','Gómez','Martinez','Mexico','1999-07-10');\n",
    "INSERT INTO resenas(membresia,id_libro,titulo,autor,categoria,calificacion,nombre,a_p,a_m,pais,fechnac) VALUES (61684,14,'La metamorfosis','Franz Kafka','Cuento',4.00,'Hugo','Rangel','Ramirez','Mexico','2000-04-06');\n",
    "INSERT INTO resenas(membresia,id_libro,titulo,autor,categoria,calificacion,nombre,a_p,a_m,pais,fechnac) VALUES (61683,15,'Erecciones, eyaculaciones, exhibiciones','Charles Bukowski','Ciencia Ficcion',4.00,'Enrique','Gómez','Martinez','Mexico','1999-07-10');\n",
    "INSERT INTO resenas(membresia,id_libro,titulo,autor,categoria,calificacion,nombre,a_p,a_m,pais,fechnac) VALUES (61683,16,'Un mundo feliz','Aldous Huxley','Novela',5.00,'Enrique','Gómez','Martinez','Mexico','1999-07-10');\n",
    "INSERT INTO resenas(membresia,id_libro,titulo,autor,categoria,calificacion,nombre,a_p,a_m,pais,fechnac) VALUES (61683,17,'Ender''s Game','Orson Scott Card','Novela',3.00,'Enrique','Gómez','Martinez','Mexico','1999-07-10');\n",
    "INSERT INTO resenas(membresia,id_libro,titulo,autor,categoria,calificacion,nombre,a_p,a_m,pais,fechnac) VALUES (61682,18,'Pedro Paramo','Juan Rulfo','Novela',3.00,'Daniel','Fragoso','Alvarado','Mexico','2000-08-16');\n",
    "INSERT INTO resenas(membresia,id_libro,titulo,autor,categoria,calificacion,nombre,a_p,a_m,pais,fechnac) VALUES (61683,19,'Travesuras de la niña mala','Mario Vargas Llosa','Novela',5.00,'Enrique','Gómez','Martinez','Mexico','1999-07-10');\n",
    "INSERT INTO resenas(membresia,id_libro,titulo,autor,categoria,calificacion,nombre,a_p,a_m,pais,fechnac) VALUES (61684,12,'La cancion de Aquiles','Madeline Miller','Novela',4.00,'Hugo','Rangel','Ramirez','Mexico','2000-04-06');\n",
    "INSERT INTO resenas(membresia,id_libro,titulo,autor,categoria,calificacion,nombre,a_p,a_m,pais,fechnac) VALUES (61683,20,'El Periquillo de Sarniento','José Joaquín Fernández de Lizardi','Novela',2.00,'Enrique','Gómez','Martinez','Mexico','1999-07-10');\n",
    "\n",
    "'''"
   ]
  }
 ],
 "metadata": {
  "interpreter": {
   "hash": "aee8b7b246df8f9039afb4144a1f6fd8d2ca17a180786b69acc140d282b71a49"
  },
  "kernelspec": {
   "display_name": "Python 3.9.10 64-bit",
   "language": "python",
   "name": "python3"
  },
  "language_info": {
   "codemirror_mode": {
    "name": "ipython",
    "version": 3
   },
   "file_extension": ".py",
   "mimetype": "text/x-python",
   "name": "python",
   "nbconvert_exporter": "python",
   "pygments_lexer": "ipython3",
   "version": "3.9.10"
  },
  "orig_nbformat": 4
 },
 "nbformat": 4,
 "nbformat_minor": 2
}
