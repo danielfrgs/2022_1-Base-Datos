{
 "cells": [
  {
   "cell_type": "code",
   "execution_count": 2,
   "metadata": {},
   "outputs": [],
   "source": [
    "# Instalamos el driver de cassandra\n",
    "# sudo pip install cassandra-driver\n",
    "# sudo pip uninstall cassandra-driver"
   ]
  },
  {
   "cell_type": "code",
   "execution_count": 3,
   "metadata": {},
   "outputs": [],
   "source": [
    "# Vamos a importar\n",
    "from cassandra.cluster import Cluster\n",
    "# Vamos a conectarno a la base de datos:\n",
    "\n",
    "## Iniciareos el contenedor de Docker con la iagen de cassandra:\n",
    "'''\n",
    "docker pull cassandra\n",
    "\n",
    "Cluster: Para esta práctica solo usaremos un nodo\n",
    "docker run --name prac2 -p 9042:9042 -e CASSANDRA_CLUSTER_NAME=MyCluster -e CASSANDRA_ENDPOINT_SNITCH=GossipingPropertyFileSnitch -e CASSANDRA_DC=datacenter1 -d cassandra\n",
    "\n",
    "docker run --name prac2 -p 9042:9042 -e CASSANDRA_CLUSTER_NAME=MyCluster -e CASSANDRA_ENDPOINT_SNITCH=GossipingPropertyFileSnitch -e CASSANDRA_DC=datacenter1 -d imagen-cassandra\n",
    "\n",
    "docker run --name prac2 -p 192.168.99.100:9042 -e CASSANDRA_CLUSTER_NAME=MyCluster -e CASSANDRA_ENDPOINT_SNITCH=GossipingPropertyFileSnitch -e CASSANDRA_DC=datacenter1 -d imagen-cassandra\n",
    "\n",
    "# Propuesta de Alejandro\n",
    "\n",
    "sudo docker run --name practica2 -p 127.0.0.1:9042:9042 -p 127.0.0.1:9160:9160 -d imagen-cassandra\n",
    "\n",
    "Conexión:\n",
    "docker exec -it prac2 bash\n",
    "\n",
    "Información del Nodo:\n",
    "nodetool status\n",
    "\n",
    "'''\n",
    "# Indicación de nuestra imagen\n",
    "\n",
    "cluster = Cluster(contact_points=['0.0.0.0'], port=9042)\n",
    "\n",
    "# Generar la conexión\n",
    "session = cluster.connect()"
   ]
  },
  {
   "cell_type": "code",
   "execution_count": 3,
   "metadata": {},
   "outputs": [
    {
     "data": {
      "text/plain": [
       "<cassandra.cluster.ResultSet at 0x10a737c10>"
      ]
     },
     "execution_count": 3,
     "metadata": {},
     "output_type": "execute_result"
    }
   ],
   "source": [
    "'''\n",
    "Creación del KEYSPACE:  que vamos a llamar peliculas\n",
    "y le vamos a poner una estrategia de replicación de tipo \n",
    "SimpleStrategy y con un factor de replicación igual a 1.\n",
    "'''\n",
    "session.execute(\"\"\"CREATE KEYSPACE base_datos WITH replication = {'class' : 'SimpleStrategy', 'replication_factor':1};\"\"\")\n"
   ]
  },
  {
   "cell_type": "code",
   "execution_count": 4,
   "metadata": {},
   "outputs": [],
   "source": [
    "# Seleccionamos el KEYSPACE\n",
    "session.set_keyspace('base_datos')"
   ]
  },
  {
   "cell_type": "markdown",
   "metadata": {},
   "source": [
    "### Funciones"
   ]
  },
  {
   "cell_type": "code",
   "execution_count": 5,
   "metadata": {},
   "outputs": [],
   "source": [
    "import pandas as pd"
   ]
  },
  {
   "cell_type": "code",
   "execution_count": 6,
   "metadata": {},
   "outputs": [],
   "source": [
    "def detecta_libro(titulo, autor):\n",
    "  existe = False \n",
    "  consulta = list(session.execute('SELECT  id_libro FROM con1 WHERE titulo = ' +  '\\'' + titulo + '\\'' + ' AND autor = ' +  '\\'' + autor +  '\\'' + 'ALLOW FILTERING;'))\n",
    "  \n",
    "  try:\n",
    "    id_libro = pd.DataFrame(consulta).iloc[0][0]\n",
    "    existe = True\n",
    "  except:\n",
    "    id_libro = list(session.execute('SELECT MAX(id_libro) FROM con1'))\n",
    "    id_libro = pd.DataFrame(id_libro).iloc[0][0] + 1 \n",
    "  return id_libro , existe"
   ]
  },
  {
   "cell_type": "code",
   "execution_count": 7,
   "metadata": {},
   "outputs": [],
   "source": [
    "# Función para generar nuevos usuarios y registros:\n",
    "\n",
    "def ingresa_nu(nombre, ap, am, titulo, autor, categoria, calif):\n",
    "  calif = str(calif)\n",
    "  membresia = list(session.execute('SELECT MAX(membresia) FROM con1;'))\n",
    "  membresia = str(pd.DataFrame(membresia).iloc[0][0] + 1)\n",
    "  id_libro, existe_libro = detecta_libro(titulo, autor)\n",
    "  id_libro = str(id_libro)\n",
    "  session.execute('INSERT INTO con1(membresia,id_libro,titulo,autor,categoria,calificacion,nombre,a_p,a_m) VALUES (' + membresia + ', ' + id_libro + ', \\'' + titulo +  '\\', \\'' + autor + '\\', \\'' + categoria + '\\', ' + calif + ', \\'' + nombre + '\\', \\'' + ap + '\\', \\'' + am + '\\');')\n",
    "  session.execute('INSERT INTO con3(membresia,id_libro,titulo,autor,categoria,calificacion,nombre,a_p,a_m) VALUES (' + membresia + ', ' + id_libro + ', \\'' + titulo +  '\\', \\'' + autor + '\\', \\'' + categoria + '\\', ' + calif + ', \\'' + nombre + '\\', \\'' + ap + '\\', \\'' + am + '\\');')\n",
    "  if existe_libro:\n",
    "    session.execute('INSERT INTO con2(membresia,id_libro,calificacion,nombre,a_p,a_m) VALUES (' + membresia + ', ' + id_libro + ', '  + calif + ', \\'' + nombre + '\\', \\'' + ap + '\\', \\'' + am + '\\');')\n",
    "  else:\n",
    "    session.execute('INSERT INTO con2(membresia,id_libro,titulo,autor,categoria,calificacion,nombre,a_p,a_m) VALUES (' + membresia + ', ' + id_libro + ', \\'' + titulo +  '\\', \\'' + autor + '\\', \\'' + categoria + '\\', ' + calif + ', \\'' + nombre + '\\', \\'' + ap + '\\', \\'' + am + '\\');')\n",
    "\n",
    "\n",
    "  print('Membresia:', membresia)"
   ]
  },
  {
   "cell_type": "code",
   "execution_count": 8,
   "metadata": {},
   "outputs": [],
   "source": [
    "# Funcion para ingresar registros de un usuario ya registrado\n",
    "\n",
    "def ingresa_m(membresia, titulo, autor, categoria, calif):\n",
    "  membresia = str(membresia)\n",
    "  calif = str(calif)\n",
    "  consulta = list(session.execute('SELECT nombre, a_p, a_m FROM con1 WHERE membresia = ' + membresia + ';' ))\n",
    "  consulta = pd.DataFrame(consulta)\n",
    "  nombre = consulta.iloc[0][0]\n",
    "  ap = consulta.iloc[0][1]\n",
    "  am = consulta.iloc[0][2]\n",
    "  id_libro, existe_libro = detecta_libro(titulo, autor)\n",
    "  id_libro = str(id_libro)\n",
    "  session.execute('INSERT INTO con1(membresia,id_libro,titulo,autor,categoria,calificacion) VALUES (' + membresia + ', ' + id_libro + ', \\'' + titulo +  '\\', \\'' + autor + '\\', \\'' + categoria + '\\', ' + calif + ');')\n",
    "  session.execute('INSERT INTO con3(membresia,id_libro,titulo,autor,categoria,calificacion,nombre,a_p,a_m) VALUES (' + membresia + ', ' + id_libro + ', \\'' + titulo +  '\\', \\'' + autor + '\\', \\'' + categoria + '\\', ' + calif + ', \\'' + nombre + '\\', \\'' + ap + '\\', \\'' + am + '\\');')\n",
    "  if existe_libro:\n",
    "    session.execute('INSERT INTO con2(membresia,id_libro,calificacion,nombre,a_p,a_m) VALUES (' + membresia + ', ' + id_libro + ', '  + calif + ', \\'' + nombre + '\\', \\'' + ap + '\\', \\'' + am + '\\');')\n",
    "  else:\n",
    "    session.execute('INSERT INTO con2(membresia,id_libro,titulo,autor,categoria,calificacion,nombre,a_p,a_m) VALUES (' + membresia + ', ' + id_libro + ', \\'' + titulo +  '\\', \\'' + autor + '\\', \\'' + categoria + '\\', ' + calif + ', \\'' + nombre + '\\', \\'' + ap + '\\', \\'' + am + '\\');')\n"
   ]
  },
  {
   "cell_type": "code",
   "execution_count": 9,
   "metadata": {},
   "outputs": [],
   "source": [
    "def ingresa_calif():\n",
    "  tiene_m = input('¿Tienes membresía? (Escribe Si o No) ')\n",
    "  if tiene_m == 'Si':\n",
    "    membresia = input('Ingresa numero de membresia ')\n",
    "    titulo = input('Ingresa título ')\n",
    "    autor = input('Ingresa autor ')\n",
    "    categoria = input('Ingresa categoria ')\n",
    "    calif = input('Ingresa calificación (Entre 0 y 5) ')\n",
    "    assert 0 <= float(calif) and float(calif) <= 5, \"Ingrese una calificación entre 0 y 5\"\n",
    "    ingresa_m(membresia, titulo, autor, categoria, calif)\n",
    "  if tiene_m == 'No':\n",
    "    nombre = input('Ingresa nombre ')\n",
    "    ap = input('Ingresa apellido paterno ')\n",
    "    am = input('Ingresa apellido materno ')\n",
    "    titulo = input('Ingresa título ')\n",
    "    autor = input('Ingresa autor ')\n",
    "    categoria = input('Ingresa categoria ')\n",
    "    calif = input('Ingresa calificación (Entre 0 y 5) ')\n",
    "    assert 0 <= float(calif) and float(calif) <= 5, \"Ingrese una calificación entre 0 y 5\"\n",
    "    ingresa_nu(nombre, ap, am, titulo, autor, categoria, calif)"
   ]
  },
  {
   "cell_type": "markdown",
   "metadata": {},
   "source": [
    "### Creación de la Tablas."
   ]
  },
  {
   "cell_type": "code",
   "execution_count": null,
   "metadata": {},
   "outputs": [
    {
     "data": {
      "text/plain": [
       "<cassandra.cluster.ResultSet at 0x10eefa3a0>"
      ]
     },
     "execution_count": 24,
     "metadata": {},
     "output_type": "execute_result"
    }
   ],
   "source": [
    "# Ingresemos los datos:\n",
    "\n",
    "session.execute(\"\"\"\n",
    "                INSERT INTO resenas(membresia,id_libro,titulo,autor,categoria,calificacion,nombre,a_p,a_m,pais,fechnac) VALUES (61682,5,'100 años de soledad','Gabriel García Marquez','Realismo Mágico',5.00,'Daniel','Fragoso','Alvarado','Mexico','2000-08-16');\n",
    "                \"\"\")"
   ]
  },
  {
   "cell_type": "code",
   "execution_count": null,
   "metadata": {},
   "outputs": [],
   "source": [
    "'''\n",
    "Ingresamos los datos:\n",
    "INSERT INTO mytable(membresia,id_libro,titulo,autor,categoria,calificacion,nombre,a_p,a_m) VALUES (1,5,'100 años de soledad','Gabriel García Marquez','Realismo Mágico',5.00,'Daniel','Fragoso','Alvarado');\n",
    "INSERT INTO mytable(membresia,id_libro,titulo,autor,categoria,calificacion,nombre,a_p,a_m) VALUES (2,6,'La casa de Bernarda Alba','Federico García Lorca','Tragedia',5.00,'Enrique','Gómez','Martinez');\n",
    "INSERT INTO mytable(membresia,id_libro,titulo,autor,categoria,calificacion,nombre,a_p,a_m) VALUES (3,7,'Una educación','Tara Westover','Ciencia Ficcion',5.00,'Hugo','Rangel','Ramirez');\n",
    "INSERT INTO mytable(membresia,id_libro,titulo,autor,categoria,calificacion,nombre,a_p,a_m) VALUES (2,8,'Do androids dream of electric sheep?','Philip K. Dick','Novela',4.00,'Enrique','Gómez','Martinez');\n",
    "INSERT INTO mytable(membresia,id_libro,titulo,autor,categoria,calificacion,nombre,a_p,a_m) VALUES (3,9,'Solo quedó nuestra historia','Adam Silvera','Cuento',3.00,'Hugo','Rangel','Ramirez');\n",
    "INSERT INTO mytable(membresia,id_libro,titulo,autor,categoria,calificacion,nombre,a_p,a_m) VALUES (3,10,'El Tapiz Amarillo','Charlotte Perkins Gilman','Novela',4.00,'Hugo','Gómez','Martinez');\n",
    "INSERT INTO mytable(membresia,id_libro,titulo,autor,categoria,calificacion,nombre,a_p,a_m) VALUES (2,11,'Lazarillo de Tormes',NULL,'Novela',1.00,'Enrique','Gómez','Martinez');\n",
    "INSERT INTO mytable(membresia,id_libro,titulo,autor,categoria,calificacion,nombre,a_p,a_m) VALUES (1,12,'La cancion de Aquiles','Madeline Miller','Novela',5.00,'Daniel','Fragoso','Alvarado');\n",
    "INSERT INTO mytable(membresia,id_libro,titulo,autor,categoria,calificacion,nombre,a_p,a_m) VALUES (2,13,'Doña Perfecta','Benito Pérez Galdós','Cuento',4.00,'Enrique','Gómez','Martinez');\n",
    "INSERT INTO mytable(membresia,id_libro,titulo,autor,categoria,calificacion,nombre,a_p,a_m) VALUES (3,14,'La metamorfosis','Franz Kafka','Cuento',4.00,'Hugo','Rangel','Ramirez');\n",
    "INSERT INTO mytable(membresia,id_libro,titulo,autor,categoria,calificacion,nombre,a_p,a_m) VALUES (2,15,'Erecciones, eyaculaciones, exhibiciones','Charles Bukowski','Ciencia Ficcion',4.00,'Enrique','Gómez','Martinez');\n",
    "INSERT INTO mytable(membresia,id_libro,titulo,autor,categoria,calificacion,nombre,a_p,a_m) VALUES (2,16,'Un mundo feliz','Aldous Huxley','Novela',5.00,'Enrique','Gómez','Martinez');\n",
    "INSERT INTO mytable(membresia,id_libro,titulo,autor,categoria,calificacion,nombre,a_p,a_m) VALUES (2,17,'Ender''s Game','Orson Scott Card','Novela',3.00,'Enrique','Gómez','Martinez');\n",
    "INSERT INTO mytable(membresia,id_libro,titulo,autor,categoria,calificacion,nombre,a_p,a_m) VALUES (1,18,'Pedro Paramo','Juan Rulfo','Novela',3.00,'Daniel','Fragoso','Alvarado');\n",
    "INSERT INTO mytable(membresia,id_libro,titulo,autor,categoria,calificacion,nombre,a_p,a_m) VALUES (2,19,'Travesuras de la niña mala','Mario Vargas Llosa','Novela',5.00,'Enrique','Gómez','Martinez');\n",
    "INSERT INTO mytable(membresia,id_libro,titulo,autor,categoria,calificacion,nombre,a_p,a_m) VALUES (3,12,'La cancion de Aquiles','Madeline Miller','Novela',4.00,'Hugo','Rangel','Ramirez');\n",
    "INSERT INTO mytable(membresia,id_libro,titulo,autor,categoria,calificacion,nombre,a_p,a_m) VALUES (2,20,'El Periquillo de Sarniento','José Joaquín Fernández de Lizardi','Novela',2.00,'Enrique','Gómez','Martinez');\n",
    "INSERT INTO mytable(membresia,id_libro,titulo,autor,categoria,calificacion,nombre,a_p,a_m) VALUES (4,21,'Exhalation','Ted Chiang','Cuento',4.00,'Fernando','Santa Rita','Vizuet');\n",
    "INSERT INTO mytable(membresia,id_libro,titulo,autor,categoria,calificacion,nombre,a_p,a_m) VALUES (5,22,'1Q84','Haruki Murakami','Novela',5.00,'Guillermo','Andrés','Urbano');\n",
    "INSERT INTO mytable(membresia,id_libro,titulo,autor,categoria,calificacion,nombre,a_p,a_m) VALUES (5,23,'El coronel no tiene quien le escriba','Gabriel García Márquez','Novela',4.00,'Guillermo','Andrés','Urbano');\n",
    "INSERT INTO mytable(membresia,id_libro,titulo,autor,categoria,calificacion,nombre,a_p,a_m) VALUES (5,24,'El señor de las moscas','William Golding','Novela',4.00,'Guillermo','Andrés','Urbano');\n",
    "INSERT INTO mytable(membresia,id_libro,titulo,autor,categoria,calificacion,nombre,a_p,a_m) VALUES (5,25,'La maquina del tiempo','H. G. Wells','Ciencia Ficcion',4.00,'Guillermo','Andrés','Urbano');\n",
    "INSERT INTO mytable(membresia,id_libro,titulo,autor,categoria,calificacion,nombre,a_p,a_m) VALUES (5,26,'La guerra de los mundos','H. G. Wells','Ciencia Ficcion',4.00,'Guillermo','Andrés','Urbano');\n",
    "INSERT INTO mytable(membresia,id_libro,titulo,autor,categoria,calificacion,nombre,a_p,a_m) VALUES (6,27,'Bajo la rueda','Hermann Hesse','Novela',4.00,'Fernando','Avitúa','Varela');\n",
    "INSERT INTO mytable(membresia,id_libro,titulo,autor,categoria,calificacion,nombre,a_p,a_m) VALUES (6,28,'Siddharta','Hermann Hesse','Novela',5.00,'Fernando','Avitúa','Varela');\n",
    "INSERT INTO mytable(membresia,id_libro,titulo,autor,categoria,calificacion,nombre,a_p,a_m) VALUES (6,29,'El Lobo Estepario','Hermann Hesse','Novela',5.00,'Fernando','Avitúa','Varela');\n",
    "INSERT INTO mytable(membresia,id_libro,titulo,autor,categoria,calificacion,nombre,a_p,a_m) VALUES (6,30,'One Shot','Lee Child','Suspenso',4.00,'Fernando','Avitúa','Varela');\n",
    "INSERT INTO mytable(membresia,id_libro,titulo,autor,categoria,calificacion,nombre,a_p,a_m) VALUES (6,20,'El Periquillo de Sarniento','José Joaquín Fernández de Lizardi','Novela',4.00,'Fernando','Avitúa','Varela');\n",
    "INSERT INTO mytable(membresia,id_libro,titulo,autor,categoria,calificacion,nombre,a_p,a_m) VALUES (7,31,'Harry Potter','J. K. Rowling','Fantasia',5.00,'Yeudiel','Lara','Moreno');\n",
    "INSERT INTO mytable(membresia,id_libro,titulo,autor,categoria,calificacion,nombre,a_p,a_m) VALUES (8,30,'One Shot','Lee Child','Suspenso',5.00,'Eduardo','Garduño','Martinez');\n",
    "INSERT INTO mytable(membresia,id_libro,titulo,autor,categoria,calificacion,nombre,a_p,a_m) VALUES (4,33,'On the road','Jack Kerouac','Novela',5.00,'Fernando','Santa Rita','Vizuet');\n",
    "INSERT INTO mytable(membresia,id_libro,titulo,autor,categoria,calificacion,nombre,a_p,a_m) VALUES (9,34,'The Pillars of the Earth','Ken Follett','Novela',4.00,'Edgar','Callejas','Hernandez');\n",
    "INSERT INTO mytable(membresia,id_libro,titulo,autor,categoria,calificacion,nombre,a_p,a_m) VALUES (10,35,'Rayuela','Julio Cortázar','Novela',5.00,'Ariel','Fuentes','Cruz');\n",
    "INSERT INTO mytable(membresia,id_libro,titulo,autor,categoria,calificacion,nombre,a_p,a_m) VALUES (10,36,'Crimen y castigo','Fiódor Dostoyevski','Novela',4.00,'Ariel','Fuentes','Cruz');\n",
    "INSERT INTO mytable(membresia,id_libro,titulo,autor,categoria,calificacion,nombre,a_p,a_m) VALUES (10,37,'Fenomenología del espíritu','Georg Wilhelm Friedrich Hegel','Ensayo',4.00,'Ariel','Fuentes','Cruz');\n",
    "INSERT INTO mytable(membresia,id_libro,titulo,autor,categoria,calificacion,nombre,a_p,a_m) VALUES (10,38,'Ulises','James Joyce','Novela',4.00,'Ariel','Fuentes','Cruz');\n",
    "INSERT INTO mytable(membresia,id_libro,titulo,autor,categoria,calificacion,nombre,a_p,a_m) VALUES (6,39,'Siddharta','Hermann Hesse','Novela',3.00,'Fernando','Avitúa','Varela');\n",
    "INSERT INTO mytable(membresia,id_libro,titulo,autor,categoria,calificacion,nombre,a_p,a_m) VALUES (6,16,'Un mundo feliz','Aldous Huxley','Ciencia Ficcion',4.00,'Fernando','Avitúa','Varela');\n",
    "INSERT INTO mytable(membresia,id_libro,titulo,autor,categoria,calificacion,nombre,a_p,a_m) VALUES (10,40,'The catcher in the rye','J. D. Salinger','Novela',5.00,'Ariel','Fuentes','Cruz');\n",
    "INSERT INTO mytable(membresia,id_libro,titulo,autor,categoria,calificacion,nombre,a_p,a_m) VALUES (10,41,'La insoportable levedad del ser','Milan Kundera','Novela',4.00,'Ariel','Fuentes','Cruz');\n",
    "INSERT INTO mytable(membresia,id_libro,titulo,autor,categoria,calificacion,nombre,a_p,a_m) VALUES (11,40,'The catcher in the rye','J. D. Salinger','Novela',4.00,'Lucas','Cervantes','Beutelspacher');\n",
    "INSERT INTO mytable(membresia,id_libro,titulo,autor,categoria,calificacion,nombre,a_p,a_m) VALUES (11,42,'The masque of the red death','Edgar Allan Poe','Cuento',5.00,'Lucas','Cervantes','Beutelspacher');\n",
    "INSERT INTO mytable(membresia,id_libro,titulo,autor,categoria,calificacion,nombre,a_p,a_m) VALUES (11,43,'The tell-tale heart','Edgar Allan Poe','Cuento',5.00,'Lucas','Cervantes','Beutelspacher');\n",
    "INSERT INTO mytable(membresia,id_libro,titulo,autor,categoria,calificacion,nombre,a_p,a_m) VALUES (11,18,'Pedro Paramo','Juan Rulfo','Novela',2.00,'Lucas','Cervantes','Beutelspacher');\n",
    "INSERT INTO mytable(membresia,id_libro,titulo,autor,categoria,calificacion,nombre,a_p,a_m) VALUES (11,44,'The fall of the house of usher','Edgar Allan Poe','Cuento',4.00,'Lucas','Cervantes','Beutelspacher');\n",
    "INSERT INTO mytable(membresia,id_libro,titulo,autor,categoria,calificacion,nombre,a_p,a_m) VALUES (12,40,'The catcher in the rye','J. D. Salinger','Novela',5.00,'Marcela','Cruz','Larios');\n",
    "INSERT INTO mytable(membresia,id_libro,titulo,autor,categoria,calificacion,nombre,a_p,a_m) VALUES (12,45,'Dune','Frank Herbert','Ciencia Ficcion',4.00,'Marcela','Cruz','Larios');\n",
    "INSERT INTO mytable(membresia,id_libro,titulo,autor,categoria,calificacion,nombre,a_p,a_m) VALUES (12,46,'El psicoanalista','John Katzenbach','Thriller',4.00,'Marcela','Cruz','Larios');\n",
    "INSERT INTO mytable(membresia,id_libro,titulo,autor,categoria,calificacion,nombre,a_p,a_m) VALUES (12,47,'Othello','William Shakespeare','Teatro',4.00,'Marcela','Cruz','Larios');\n",
    "INSERT INTO mytable(membresia,id_libro,titulo,autor,categoria,calificacion,nombre,a_p,a_m) VALUES (12,48,'El principito','Antoine de Saint-Exupéry','Cuento',5.00,'Marcela','Cruz','Larios');\n",
    "INSERT INTO mytable(membresia,id_libro,titulo,autor,categoria,calificacion,nombre,a_p,a_m) VALUES (12,49,'El asesinato de pitágoras','Marcos Chicot','Thriller histórico',4.00,'Marcela','Cruz','Larios');\n",
    "INSERT INTO mytable(membresia,id_libro,titulo,autor,categoria,calificacion,nombre,a_p,a_m) VALUES (12,50,'Hábitos Atómicos','James Clear','Autoayuda',5.00,'Marcela','Cruz','Larios');\n",
    "INSERT INTO mytable(membresia,id_libro,titulo,autor,categoria,calificacion,nombre,a_p,a_m) VALUES (13,51,'Los Recuerdos del Porvenir','Elena Garro','Realismo mágico',5.00,'Laz',NULL,NULL);\n",
    "INSERT INTO mytable(membresia,id_libro,titulo,autor,categoria,calificacion,nombre,a_p,a_m) VALUES (14,52,'Pride and Prejudice','Jane Austen','Novela',5.00,'Camila','Silva','Velazquez');\n",
    "INSERT INTO mytable(membresia,id_libro,titulo,autor,categoria,calificacion,nombre,a_p,a_m) VALUES (13,53,'Testimonios sobre Mariana','Elena Garro','Realismo mágico',4.00,'Laz',NULL,NULL);\n",
    "INSERT INTO mytable(membresia,id_libro,titulo,autor,categoria,calificacion,nombre,a_p,a_m) VALUES (14,54,'The Lord of the Rings','J. R. R. Tolkien','Novela',4.00,'Camila','Silva','Velazquez');\n",
    "INSERT INTO mytable(membresia,id_libro,titulo,autor,categoria,calificacion,nombre,a_p,a_m) VALUES (13,55,'Neverwhere','Neil Gaiman','Fantasia Oscura',4.00,'Laz',NULL,NULL);\n",
    "INSERT INTO mytable(membresia,id_libro,titulo,autor,categoria,calificacion,nombre,a_p,a_m) VALUES (13,56,'Valis','Philip K. Dick','Ciencia Ficcion',4.00,'Laz',NULL,NULL);\n",
    "INSERT INTO mytable(membresia,id_libro,titulo,autor,categoria,calificacion,nombre,a_p,a_m) VALUES (14,57,'La Historia del Rey Transparente','Rosa Montero','Novela',5.00,'Camila','Silva','Velazquez');\n",
    "INSERT INTO mytable(membresia,id_libro,titulo,autor,categoria,calificacion,nombre,a_p,a_m) VALUES (13,58,'La semana de colores','Elena Garro','Cuento',9.00,'Laz',NULL,NULL);\n",
    "INSERT INTO mytable(membresia,id_libro,titulo,autor,categoria,calificacion,nombre,a_p,a_m) VALUES (14,59,'¡Adiós, Cordera!','Leopoldo Alas','Cuento',5.00,'Camila','Silva','Velazquez');\n",
    "INSERT INTO mytable(membresia,id_libro,titulo,autor,categoria,calificacion,nombre,a_p,a_m) VALUES (13,60,'Temporada de Huracanes','Fernanda Melchor','Novela',4.00,'Laz',NULL,NULL);\n",
    "INSERT INTO mytable(membresia,id_libro,titulo,autor,categoria,calificacion,nombre,a_p,a_m) VALUES (13,61,'The Sirens of Titan','Kurt Vonnegut','Ciencia Ficcion',4.00,'Laz',NULL,NULL);\n",
    "INSERT INTO mytable(membresia,id_libro,titulo,autor,categoria,calificacion,nombre,a_p,a_m) VALUES (13,62,'Un hogar solido','Elena Garro','Teatro',5.00,'Laz',NULL,NULL);\n",
    "INSERT INTO mytable(membresia,id_libro,titulo,autor,categoria,calificacion,nombre,a_p,a_m) VALUES (14,63,'La Gitanilla','Miguel de Cervantes','Novela',4.00,'Camila','Silva','Velazquez');\n",
    "INSERT INTO mytable(membresia,id_libro,titulo,autor,categoria,calificacion,nombre,a_p,a_m) VALUES (13,64,'Ser y tiempo','Martin Heidegger','Ensayo',4.00,'Laz',NULL,NULL);\n",
    "INSERT INTO mytable(membresia,id_libro,titulo,autor,categoria,calificacion,nombre,a_p,a_m) VALUES (15,18,'Pedro Paramo','Juan Rulfo','Novela',4.00,'Pablo','Castillo','Del Valle');\n",
    "INSERT INTO mytable(membresia,id_libro,titulo,autor,categoria,calificacion,nombre,a_p,a_m) VALUES (15,16,'Un mundo feliz','Aldous Huxley','Ciencia Ficcion',5.00,'Pablo','Castillo','Del Valle');\n",
    "INSERT INTO mytable(membresia,id_libro,titulo,autor,categoria,calificacion,nombre,a_p,a_m) VALUES (15,65,'Crónicas marcianas','Ray Bradbury','Ciencia Ficcion',5.00,'Pablo','Castillo','Del Valle');\n",
    "INSERT INTO mytable(membresia,id_libro,titulo,autor,categoria,calificacion,nombre,a_p,a_m) VALUES (15,66,'1984','George Orwell','Ciencia Ficcion',4.00,'Pablo','Castillo','Del Valle');\n",
    "INSERT INTO mytable(membresia,id_libro,titulo,autor,categoria,calificacion,nombre,a_p,a_m) VALUES (15,67,'Spivak-Calulus','Michael Spivak','Académico',3.00,'Pablo','Castillo','Del Valle');\n",
    "INSERT INTO mytable(membresia,id_libro,titulo,autor,categoria,calificacion,nombre,a_p,a_m) VALUES (15,68,'Física de lo imposible','Michio Kaku','Divulgación',4.00,'Pablo','Castillo','Del Valle');\n",
    "INSERT INTO mytable(membresia,id_libro,titulo,autor,categoria,calificacion,nombre,a_p,a_m) VALUES (15,69,'The Lord of the Rings The Fellowship of the Ring','J. R. R. Tolkien','Fantasia',5.00,'Pablo','Castillo','Del Valle');\n",
    "INSERT INTO mytable(membresia,id_libro,titulo,autor,categoria,calificacion,nombre,a_p,a_m) VALUES (15,70,'The Lord of the Rings The Two Towers','J. R. R. Tolkien','Fantasia',5.00,'Pablo','Castillo','Del Valle');\n",
    "INSERT INTO mytable(membresia,id_libro,titulo,autor,categoria,calificacion,nombre,a_p,a_m) VALUES (15,71,'The Lord of the Rings The Return of the King','J. R. R. Tolkien','Fantasia',5.00,'Pablo','Castillo','Del Valle');\n",
    "INSERT INTO mytable(membresia,id_libro,titulo,autor,categoria,calificacion,nombre,a_p,a_m) VALUES (16,72,'To Kill A Mockingbird','Harper Lee','Ficción Doméstica',5.00,'Alejandro','Leon',NULL);\n",
    "INSERT INTO mytable(membresia,id_libro,titulo,autor,categoria,calificacion,nombre,a_p,a_m) VALUES (16,73,'La Dama de las Camelias','Alejandro Dumas Hijo y Alexandre Dumas','Tragedia',4.00,'Alejandro','Leon',NULL);\n",
    "INSERT INTO mytable(membresia,id_libro,titulo,autor,categoria,calificacion,nombre,a_p,a_m) VALUES (16,74,'Farenheit 451','Ray Bradbury','Ficción Distópica',4.00,'Alejandro','Leon',NULL);\n",
    "INSERT INTO mytable(membresia,id_libro,titulo,autor,categoria,calificacion,nombre,a_p,a_m) VALUES (16,75,'The Handmaid''s Tale','Margaret Atwood','Ficción Distópica',4.00,'Alejandro','Leon',NULL);\n",
    "INSERT INTO mytable(membresia,id_libro,titulo,autor,categoria,calificacion,nombre,a_p,a_m) VALUES (16,76,'La Sombra del Viento','Carlos Ruiz Zafón','Misterio',3.00,'Alejandro','Leon',NULL);\n",
    "INSERT INTO mytable(membresia,id_libro,titulo,autor,categoria,calificacion,nombre,a_p,a_m) VALUES (16,77,'Los Hermanos Karamazov','Fiódor Dostoyevski','Novela Filosófica',5.00,'Alejandro','Leon',NULL);\n",
    "INSERT INTO mytable(membresia,id_libro,titulo,autor,categoria,calificacion,nombre,a_p,a_m) VALUES (16,78,'Anna Karenina','León Tolstói','Novela Realista',5.00,'Alejandro','Leon',NULL);\n",
    "INSERT INTO mytable(membresia,id_libro,titulo,autor,categoria,calificacion,nombre,a_p,a_m) VALUES (16,79,'I Shall Seal the Heavens','Er Gen','Xianxia',3.00,'Alejandro','Leon',NULL);\n",
    "INSERT INTO mytable(membresia,id_libro,titulo,autor,categoria,calificacion,nombre,a_p,a_m) VALUES (16,80,'The Second Coming of Gluttony','Enrique Fragoso Rangel','Wuxia',4.00,'Alejandro','Leon',NULL);\n",
    "INSERT INTO mytable(membresia,id_libro,titulo,autor,categoria,calificacion,nombre,a_p,a_m) VALUES (17,81,'El Aleph','Jorge Luis Borges','Cuento',5.00,'Bruce','Nolasco',NULL);\n",
    "INSERT INTO mytable(membresia,id_libro,titulo,autor,categoria,calificacion,nombre,a_p,a_m) VALUES (17,82,'Ficciones','Jorge Luis Borges','Cuento',5.00,'Bruce','Nolasco',NULL);\n",
    "INSERT INTO mytable(membresia,id_libro,titulo,autor,categoria,calificacion,nombre,a_p,a_m) VALUES (17,18,'Pedro Paramo','Juan Rulfo','Novela',4.00,'Bruce','Nolasco',NULL);\n",
    "INSERT INTO mytable(membresia,id_libro,titulo,autor,categoria,calificacion,nombre,a_p,a_m) VALUES (17,83,'The Physician','Noah Gordon','Novela',4.00,'Bruce','Nolasco',NULL);\n",
    "INSERT INTO mytable(membresia,id_libro,titulo,autor,categoria,calificacion,nombre,a_p,a_m) VALUES (17,84,'The Classical Theory of Fields','Lev Landáu','Académico',4.00,'Bruce','Nolasco',NULL);\n",
    "INSERT INTO mytable(membresia,id_libro,titulo,autor,categoria,calificacion,nombre,a_p,a_m) VALUES (17,85,'Quantum Mechanics: Non-Relativistic Theory','Lev Landáu','Académico',4.00,'Bruce','Nolasco',NULL);\n",
    "INSERT INTO mytable(membresia,id_libro,titulo,autor,categoria,calificacion,nombre,a_p,a_m) VALUES (17,65,'Crónicas marcianas','Ray Bradbury','Ciencia Ficcion',3.00,'Bruce','Nolasco',NULL);\n",
    "INSERT INTO mytable(membresia,id_libro,titulo,autor,categoria,calificacion,nombre,a_p,a_m) VALUES (17,45,'Dune','Frank Herbert','Ciencia Ficcion',5.00,'Bruce','Nolasco',NULL);\n",
    "INSERT INTO mytable(membresia,id_libro,titulo,autor,categoria,calificacion,nombre,a_p,a_m) VALUES (17,86,'Modern Quantum Mechanics','J. J. Sakurai','Académico',4.00,'Bruce','Nolasco',NULL);\n",
    "INSERT INTO mytable(membresia,id_libro,titulo,autor,categoria,calificacion,nombre,a_p,a_m) VALUES (17,8,'Do androids dream of electric sheep?','Philip  K. Dick','Ciencia Ficcion',4.00,'Bruce','Nolasco',NULL);\n",
    "'''"
   ]
  },
  {
   "cell_type": "code",
   "execution_count": 10,
   "metadata": {},
   "outputs": [
    {
     "data": {
      "text/plain": [
       "<cassandra.cluster.ResultSet at 0x10ca05c40>"
      ]
     },
     "execution_count": 10,
     "metadata": {},
     "output_type": "execute_result"
    }
   ],
   "source": [
    "# Creamos la tabla\n",
    "session.execute(\"\"\"\n",
    "                CREATE TABLE con1 (\n",
    "                    membresia int,\n",
    "                    id_libro int,\n",
    "                    titulo text,\n",
    "                    autor text, \n",
    "                    categoria text,\n",
    "                    calificacion float,\n",
    "                    nombre text STATIC,\n",
    "                    a_p text STATIC,\n",
    "                    a_m text STATIC,\n",
    "                    PRIMARY KEY (membresia, categoria, id_libro));\n",
    "                \"\"\")\n"
   ]
  },
  {
   "cell_type": "code",
   "execution_count": 11,
   "metadata": {},
   "outputs": [
    {
     "data": {
      "text/plain": [
       "<cassandra.cluster.ResultSet at 0x10ca054f0>"
      ]
     },
     "execution_count": 11,
     "metadata": {},
     "output_type": "execute_result"
    }
   ],
   "source": [
    "# Creamos la tabla\n",
    "session.execute(\"\"\"\n",
    "                CREATE TABLE con2 (\n",
    "                    membresia int,\n",
    "                    id_libro int,\n",
    "                    titulo text STATIC,\n",
    "                    autor text STATIC, \n",
    "                    categoria text STATIC,\n",
    "                    calificacion float,\n",
    "                    nombre text,\n",
    "                    a_p text,\n",
    "                    a_m text,\n",
    "                    PRIMARY KEY (id_libro, membresia));\n",
    "                \"\"\")"
   ]
  },
  {
   "cell_type": "code",
   "execution_count": 12,
   "metadata": {},
   "outputs": [
    {
     "data": {
      "text/plain": [
       "<cassandra.cluster.ResultSet at 0x112b17d90>"
      ]
     },
     "execution_count": 12,
     "metadata": {},
     "output_type": "execute_result"
    }
   ],
   "source": [
    "# Creamos la tabla\n",
    "session.execute(\"\"\"\n",
    "                CREATE TABLE con3 (\n",
    "                    membresia int,\n",
    "                    id_libro int,\n",
    "                    titulo text,\n",
    "                    autor text, \n",
    "                    categoria text,\n",
    "                    calificacion float,\n",
    "                    nombre text,\n",
    "                    a_p text,\n",
    "                    a_m text,\n",
    "                    PRIMARY KEY (categoria, id_libro, membresia));\n",
    "                \"\"\")"
   ]
  },
  {
   "cell_type": "markdown",
   "metadata": {},
   "source": [
    "Por la naturaleza de Cassandra vamos a pensar primero en la consulta antes de generar la tabla:\n",
    "\n",
    "1. La categoría preferida de un cliente dado."
   ]
  },
  {
   "cell_type": "code",
   "execution_count": 49,
   "metadata": {},
   "outputs": [],
   "source": [
    "import pandas as pd"
   ]
  },
  {
   "cell_type": "code",
   "execution_count": 13,
   "metadata": {},
   "outputs": [],
   "source": [
    "def Con1(usuario):\n",
    "    usuario = str(usuario)\n",
    "    us = session.execute('SELECT categoria, AVG(calificacion) AS cal FROM con1 WHERE membresia = ' + usuario + ' GROUP BY categoria;')\n",
    "\n",
    "    df = pd.DataFrame(list(us))\n",
    "\n",
    "    # Obtengamos aquellas categorias que mejor evaluadas han sido:\n",
    "\n",
    "    return(df[df.cal == df.cal.max()])"
   ]
  },
  {
   "cell_type": "code",
   "execution_count": 24,
   "metadata": {},
   "outputs": [
    {
     "data": {
      "text/html": [
       "<div>\n",
       "<style scoped>\n",
       "    .dataframe tbody tr th:only-of-type {\n",
       "        vertical-align: middle;\n",
       "    }\n",
       "\n",
       "    .dataframe tbody tr th {\n",
       "        vertical-align: top;\n",
       "    }\n",
       "\n",
       "    .dataframe thead th {\n",
       "        text-align: right;\n",
       "    }\n",
       "</style>\n",
       "<table border=\"1\" class=\"dataframe\">\n",
       "  <thead>\n",
       "    <tr style=\"text-align: right;\">\n",
       "      <th></th>\n",
       "      <th>categoria</th>\n",
       "      <th>cal</th>\n",
       "    </tr>\n",
       "  </thead>\n",
       "  <tbody>\n",
       "    <tr>\n",
       "      <th>3</th>\n",
       "      <td>Tragedia</td>\n",
       "      <td>5.0</td>\n",
       "    </tr>\n",
       "  </tbody>\n",
       "</table>\n",
       "</div>"
      ],
      "text/plain": [
       "  categoria  cal\n",
       "3  Tragedia  5.0"
      ]
     },
     "execution_count": 24,
     "metadata": {},
     "output_type": "execute_result"
    }
   ],
   "source": [
    "'''\n",
    "Kike = 2\n",
    "'''\n",
    "\n",
    "Con1(2)\n"
   ]
  },
  {
   "cell_type": "code",
   "execution_count": 26,
   "metadata": {},
   "outputs": [
    {
     "data": {
      "text/html": [
       "<div>\n",
       "<style scoped>\n",
       "    .dataframe tbody tr th:only-of-type {\n",
       "        vertical-align: middle;\n",
       "    }\n",
       "\n",
       "    .dataframe tbody tr th {\n",
       "        vertical-align: top;\n",
       "    }\n",
       "\n",
       "    .dataframe thead th {\n",
       "        text-align: right;\n",
       "    }\n",
       "</style>\n",
       "<table border=\"1\" class=\"dataframe\">\n",
       "  <thead>\n",
       "    <tr style=\"text-align: right;\">\n",
       "      <th></th>\n",
       "      <th>categoria</th>\n",
       "      <th>cal</th>\n",
       "    </tr>\n",
       "  </thead>\n",
       "  <tbody>\n",
       "    <tr>\n",
       "      <th>2</th>\n",
       "      <td>Cuento</td>\n",
       "      <td>5.0</td>\n",
       "    </tr>\n",
       "  </tbody>\n",
       "</table>\n",
       "</div>"
      ],
      "text/plain": [
       "  categoria  cal\n",
       "2    Cuento  5.0"
      ]
     },
     "execution_count": 26,
     "metadata": {},
     "output_type": "execute_result"
    }
   ],
   "source": [
    "'''\n",
    "Bruce = 17\n",
    "'''\n",
    "Con1(17)"
   ]
  },
  {
   "cell_type": "code",
   "execution_count": 23,
   "metadata": {},
   "outputs": [
    {
     "data": {
      "text/html": [
       "<div>\n",
       "<style scoped>\n",
       "    .dataframe tbody tr th:only-of-type {\n",
       "        vertical-align: middle;\n",
       "    }\n",
       "\n",
       "    .dataframe tbody tr th {\n",
       "        vertical-align: top;\n",
       "    }\n",
       "\n",
       "    .dataframe thead th {\n",
       "        text-align: right;\n",
       "    }\n",
       "</style>\n",
       "<table border=\"1\" class=\"dataframe\">\n",
       "  <thead>\n",
       "    <tr style=\"text-align: right;\">\n",
       "      <th></th>\n",
       "      <th>categoria</th>\n",
       "      <th>cal</th>\n",
       "    </tr>\n",
       "  </thead>\n",
       "  <tbody>\n",
       "    <tr>\n",
       "      <th>3</th>\n",
       "      <td>Fantasia</td>\n",
       "      <td>5.0</td>\n",
       "    </tr>\n",
       "  </tbody>\n",
       "</table>\n",
       "</div>"
      ],
      "text/plain": [
       "  categoria  cal\n",
       "3  Fantasia  5.0"
      ]
     },
     "execution_count": 23,
     "metadata": {},
     "output_type": "execute_result"
    }
   ],
   "source": [
    "'''\n",
    "Pablo = 15\n",
    "'''\n",
    "Con1(15)"
   ]
  },
  {
   "cell_type": "markdown",
   "metadata": {},
   "source": [
    "2. Obtener los clientes que más disfrutaron un libro dado."
   ]
  },
  {
   "cell_type": "code",
   "execution_count": 14,
   "metadata": {},
   "outputs": [],
   "source": [
    "def Con2(id_libro):\n",
    "    id_libro = str(id_libro)\n",
    "    libro = session.execute('SELECT nombre, a_p, a_m, calificacion FROM con2 WHERE id_libro = ' +  id_libro + ';')\n",
    "\n",
    "    df = pd.DataFrame(list(libro))\n",
    "\n",
    "    # Obtengamos el usuario(s)\n",
    "    return(df[df.calificacion == df.calificacion.max()])"
   ]
  },
  {
   "cell_type": "code",
   "execution_count": 31,
   "metadata": {},
   "outputs": [
    {
     "data": {
      "text/html": [
       "<div>\n",
       "<style scoped>\n",
       "    .dataframe tbody tr th:only-of-type {\n",
       "        vertical-align: middle;\n",
       "    }\n",
       "\n",
       "    .dataframe tbody tr th {\n",
       "        vertical-align: top;\n",
       "    }\n",
       "\n",
       "    .dataframe thead th {\n",
       "        text-align: right;\n",
       "    }\n",
       "</style>\n",
       "<table border=\"1\" class=\"dataframe\">\n",
       "  <thead>\n",
       "    <tr style=\"text-align: right;\">\n",
       "      <th></th>\n",
       "      <th>nombre</th>\n",
       "      <th>a_p</th>\n",
       "      <th>a_m</th>\n",
       "      <th>calificacion</th>\n",
       "    </tr>\n",
       "  </thead>\n",
       "  <tbody>\n",
       "    <tr>\n",
       "      <th>2</th>\n",
       "      <td>Pablo</td>\n",
       "      <td>Castillo</td>\n",
       "      <td>Del Valle</td>\n",
       "      <td>4.0</td>\n",
       "    </tr>\n",
       "    <tr>\n",
       "      <th>3</th>\n",
       "      <td>Bruce</td>\n",
       "      <td>Nolasco</td>\n",
       "      <td>None</td>\n",
       "      <td>4.0</td>\n",
       "    </tr>\n",
       "  </tbody>\n",
       "</table>\n",
       "</div>"
      ],
      "text/plain": [
       "  nombre       a_p        a_m  calificacion\n",
       "2  Pablo  Castillo  Del Valle           4.0\n",
       "3  Bruce   Nolasco       None           4.0"
      ]
     },
     "execution_count": 31,
     "metadata": {},
     "output_type": "execute_result"
    }
   ],
   "source": [
    "'''\n",
    "Pedro Paramo : 18\n",
    "'''\n",
    "\n",
    "Con2(18)"
   ]
  },
  {
   "cell_type": "code",
   "execution_count": 32,
   "metadata": {},
   "outputs": [
    {
     "data": {
      "text/html": [
       "<div>\n",
       "<style scoped>\n",
       "    .dataframe tbody tr th:only-of-type {\n",
       "        vertical-align: middle;\n",
       "    }\n",
       "\n",
       "    .dataframe tbody tr th {\n",
       "        vertical-align: top;\n",
       "    }\n",
       "\n",
       "    .dataframe thead th {\n",
       "        text-align: right;\n",
       "    }\n",
       "</style>\n",
       "<table border=\"1\" class=\"dataframe\">\n",
       "  <thead>\n",
       "    <tr style=\"text-align: right;\">\n",
       "      <th></th>\n",
       "      <th>nombre</th>\n",
       "      <th>a_p</th>\n",
       "      <th>a_m</th>\n",
       "      <th>calificacion</th>\n",
       "    </tr>\n",
       "  </thead>\n",
       "  <tbody>\n",
       "    <tr>\n",
       "      <th>0</th>\n",
       "      <td>Ariel</td>\n",
       "      <td>Fuentes</td>\n",
       "      <td>Cruz</td>\n",
       "      <td>5.0</td>\n",
       "    </tr>\n",
       "    <tr>\n",
       "      <th>2</th>\n",
       "      <td>Marcela</td>\n",
       "      <td>Cruz</td>\n",
       "      <td>Larios</td>\n",
       "      <td>5.0</td>\n",
       "    </tr>\n",
       "  </tbody>\n",
       "</table>\n",
       "</div>"
      ],
      "text/plain": [
       "    nombre      a_p     a_m  calificacion\n",
       "0    Ariel  Fuentes    Cruz           5.0\n",
       "2  Marcela     Cruz  Larios           5.0"
      ]
     },
     "execution_count": 32,
     "metadata": {},
     "output_type": "execute_result"
    }
   ],
   "source": [
    "'''\n",
    "The catcher in the rye : 40\n",
    "'''\n",
    "\n",
    "Con2(40)"
   ]
  },
  {
   "cell_type": "markdown",
   "metadata": {},
   "source": [
    "3. Los mejores libros de una categoría dada."
   ]
  },
  {
   "cell_type": "code",
   "execution_count": 15,
   "metadata": {},
   "outputs": [],
   "source": [
    "def Con3(categoria):\n",
    "    cat = session.execute('SELECT id_libro, titulo,  AVG(calificacion) AS cal FROM con3 WHERE categoria = \\'' + categoria + '\\' GROUP BY id_libro;')\n",
    "\n",
    "    df = pd.DataFrame(list(cat))\n",
    "\n",
    "    # Obtengamos el los mejores\n",
    "    return(df[df.cal == df.cal.max()])"
   ]
  },
  {
   "cell_type": "code",
   "execution_count": 36,
   "metadata": {},
   "outputs": [
    {
     "data": {
      "text/html": [
       "<div>\n",
       "<style scoped>\n",
       "    .dataframe tbody tr th:only-of-type {\n",
       "        vertical-align: middle;\n",
       "    }\n",
       "\n",
       "    .dataframe tbody tr th {\n",
       "        vertical-align: top;\n",
       "    }\n",
       "\n",
       "    .dataframe thead th {\n",
       "        text-align: right;\n",
       "    }\n",
       "</style>\n",
       "<table border=\"1\" class=\"dataframe\">\n",
       "  <thead>\n",
       "    <tr style=\"text-align: right;\">\n",
       "      <th></th>\n",
       "      <th>id_libro</th>\n",
       "      <th>titulo</th>\n",
       "      <th>cal</th>\n",
       "    </tr>\n",
       "  </thead>\n",
       "  <tbody>\n",
       "    <tr>\n",
       "      <th>4</th>\n",
       "      <td>16</td>\n",
       "      <td>Un mundo feliz</td>\n",
       "      <td>5.0</td>\n",
       "    </tr>\n",
       "    <tr>\n",
       "      <th>7</th>\n",
       "      <td>19</td>\n",
       "      <td>Travesuras de la niña mala</td>\n",
       "      <td>5.0</td>\n",
       "    </tr>\n",
       "    <tr>\n",
       "      <th>9</th>\n",
       "      <td>22</td>\n",
       "      <td>1Q84</td>\n",
       "      <td>5.0</td>\n",
       "    </tr>\n",
       "    <tr>\n",
       "      <th>13</th>\n",
       "      <td>28</td>\n",
       "      <td>Siddharta</td>\n",
       "      <td>5.0</td>\n",
       "    </tr>\n",
       "    <tr>\n",
       "      <th>14</th>\n",
       "      <td>29</td>\n",
       "      <td>El Lobo Estepario</td>\n",
       "      <td>5.0</td>\n",
       "    </tr>\n",
       "    <tr>\n",
       "      <th>15</th>\n",
       "      <td>33</td>\n",
       "      <td>On the road</td>\n",
       "      <td>5.0</td>\n",
       "    </tr>\n",
       "    <tr>\n",
       "      <th>17</th>\n",
       "      <td>35</td>\n",
       "      <td>Rayuela</td>\n",
       "      <td>5.0</td>\n",
       "    </tr>\n",
       "    <tr>\n",
       "      <th>23</th>\n",
       "      <td>52</td>\n",
       "      <td>Pride and Prejudice</td>\n",
       "      <td>5.0</td>\n",
       "    </tr>\n",
       "    <tr>\n",
       "      <th>25</th>\n",
       "      <td>57</td>\n",
       "      <td>La Historia del Rey Transparente</td>\n",
       "      <td>5.0</td>\n",
       "    </tr>\n",
       "  </tbody>\n",
       "</table>\n",
       "</div>"
      ],
      "text/plain": [
       "    id_libro                            titulo  cal\n",
       "4         16                    Un mundo feliz  5.0\n",
       "7         19        Travesuras de la niña mala  5.0\n",
       "9         22                              1Q84  5.0\n",
       "13        28                         Siddharta  5.0\n",
       "14        29                 El Lobo Estepario  5.0\n",
       "15        33                       On the road  5.0\n",
       "17        35                           Rayuela  5.0\n",
       "23        52               Pride and Prejudice  5.0\n",
       "25        57  La Historia del Rey Transparente  5.0"
      ]
     },
     "execution_count": 36,
     "metadata": {},
     "output_type": "execute_result"
    }
   ],
   "source": [
    "'''\n",
    "Novela\n",
    "'''\n",
    "\n",
    "Con3('Novela')"
   ]
  },
  {
   "cell_type": "code",
   "execution_count": 37,
   "metadata": {},
   "outputs": [
    {
     "data": {
      "text/html": [
       "<div>\n",
       "<style scoped>\n",
       "    .dataframe tbody tr th:only-of-type {\n",
       "        vertical-align: middle;\n",
       "    }\n",
       "\n",
       "    .dataframe tbody tr th {\n",
       "        vertical-align: top;\n",
       "    }\n",
       "\n",
       "    .dataframe thead th {\n",
       "        text-align: right;\n",
       "    }\n",
       "</style>\n",
       "<table border=\"1\" class=\"dataframe\">\n",
       "  <thead>\n",
       "    <tr style=\"text-align: right;\">\n",
       "      <th></th>\n",
       "      <th>id_libro</th>\n",
       "      <th>titulo</th>\n",
       "      <th>cal</th>\n",
       "    </tr>\n",
       "  </thead>\n",
       "  <tbody>\n",
       "    <tr>\n",
       "      <th>0</th>\n",
       "      <td>7</td>\n",
       "      <td>Una educación</td>\n",
       "      <td>5.0</td>\n",
       "    </tr>\n",
       "  </tbody>\n",
       "</table>\n",
       "</div>"
      ],
      "text/plain": [
       "   id_libro         titulo  cal\n",
       "0         7  Una educación  5.0"
      ]
     },
     "execution_count": 37,
     "metadata": {},
     "output_type": "execute_result"
    }
   ],
   "source": [
    "'''\n",
    "Ciencia Ficcion\n",
    "'''\n",
    "\n",
    "Con3('Ciencia Ficcion')"
   ]
  },
  {
   "cell_type": "code",
   "execution_count": 40,
   "metadata": {},
   "outputs": [
    {
     "data": {
      "text/html": [
       "<div>\n",
       "<style scoped>\n",
       "    .dataframe tbody tr th:only-of-type {\n",
       "        vertical-align: middle;\n",
       "    }\n",
       "\n",
       "    .dataframe tbody tr th {\n",
       "        vertical-align: top;\n",
       "    }\n",
       "\n",
       "    .dataframe thead th {\n",
       "        text-align: right;\n",
       "    }\n",
       "</style>\n",
       "<table border=\"1\" class=\"dataframe\">\n",
       "  <thead>\n",
       "    <tr style=\"text-align: right;\">\n",
       "      <th></th>\n",
       "      <th>id_libro</th>\n",
       "      <th>titulo</th>\n",
       "      <th>cal</th>\n",
       "    </tr>\n",
       "  </thead>\n",
       "  <tbody>\n",
       "    <tr>\n",
       "      <th>1</th>\n",
       "      <td>84</td>\n",
       "      <td>The Classical Theory of Fields</td>\n",
       "      <td>4.0</td>\n",
       "    </tr>\n",
       "    <tr>\n",
       "      <th>2</th>\n",
       "      <td>85</td>\n",
       "      <td>Quantum Mechanics: Non-Relativistic Theory</td>\n",
       "      <td>4.0</td>\n",
       "    </tr>\n",
       "    <tr>\n",
       "      <th>3</th>\n",
       "      <td>86</td>\n",
       "      <td>Modern Quantum Mechanics</td>\n",
       "      <td>4.0</td>\n",
       "    </tr>\n",
       "  </tbody>\n",
       "</table>\n",
       "</div>"
      ],
      "text/plain": [
       "   id_libro                                      titulo  cal\n",
       "1        84              The Classical Theory of Fields  4.0\n",
       "2        85  Quantum Mechanics: Non-Relativistic Theory  4.0\n",
       "3        86                    Modern Quantum Mechanics  4.0"
      ]
     },
     "execution_count": 40,
     "metadata": {},
     "output_type": "execute_result"
    }
   ],
   "source": [
    "'''\n",
    "Académico \n",
    "'''\n",
    "\n",
    "Con3('Académico')"
   ]
  },
  {
   "cell_type": "markdown",
   "metadata": {},
   "source": [
    "Definimos una función para optimizar las consultas:"
   ]
  },
  {
   "cell_type": "code",
   "execution_count": 11,
   "metadata": {},
   "outputs": [],
   "source": [
    "def consulta():\n",
    "  tipo = input('Ingrese el número según la consulta que desee hacer \\n 1: Categoría preferida de un cliente ' +\n",
    "               '\\n 2: Clientes que más difrutaron un libro' +\n",
    "               '\\n 3: Mejores libros de una categoría \\n')\n",
    "  if tipo == '1':\n",
    "    cliente = input('Ingrese membresia del cliente')\n",
    "    return Con1(cliente)\n",
    "  if tipo == '2':\n",
    "    cliente = input('Ingrese el id del libro')\n",
    "    return Con2(cliente)\n",
    "  if tipo == '3':\n",
    "    categoria = input('Ingrese la categoría')\n",
    "    return Con3(categoria)"
   ]
  },
  {
   "cell_type": "code",
   "execution_count": 16,
   "metadata": {},
   "outputs": [
    {
     "name": "stdout",
     "output_type": "stream",
     "text": [
      "Ingrese el número según la consulta que desee hacer \n",
      " 1: Categoría preferida de un cliente \n",
      " 2: Clientes que más difrutaron un libro\n",
      " 3: Mejores libros de una categoría \n",
      "1\n",
      "Ingrese membresia del cliente17\n"
     ]
    },
    {
     "data": {
      "text/html": [
       "<div>\n",
       "<style scoped>\n",
       "    .dataframe tbody tr th:only-of-type {\n",
       "        vertical-align: middle;\n",
       "    }\n",
       "\n",
       "    .dataframe tbody tr th {\n",
       "        vertical-align: top;\n",
       "    }\n",
       "\n",
       "    .dataframe thead th {\n",
       "        text-align: right;\n",
       "    }\n",
       "</style>\n",
       "<table border=\"1\" class=\"dataframe\">\n",
       "  <thead>\n",
       "    <tr style=\"text-align: right;\">\n",
       "      <th></th>\n",
       "      <th>categoria</th>\n",
       "      <th>cal</th>\n",
       "    </tr>\n",
       "  </thead>\n",
       "  <tbody>\n",
       "    <tr>\n",
       "      <th>2</th>\n",
       "      <td>Cuento</td>\n",
       "      <td>5.0</td>\n",
       "    </tr>\n",
       "  </tbody>\n",
       "</table>\n",
       "</div>"
      ],
      "text/plain": [
       "  categoria  cal\n",
       "2    Cuento  5.0"
      ]
     },
     "execution_count": 16,
     "metadata": {},
     "output_type": "execute_result"
    }
   ],
   "source": [
    "consulta()"
   ]
  },
  {
   "cell_type": "code",
   "execution_count": 17,
   "metadata": {},
   "outputs": [
    {
     "name": "stdout",
     "output_type": "stream",
     "text": [
      "Ingrese el número según la consulta que desee hacer \n",
      " 1: Categoría preferida de un cliente \n",
      " 2: Clientes que más difrutaron un libro\n",
      " 3: Mejores libros de una categoría \n",
      "2\n",
      "Ingrese el id del libro11\n"
     ]
    },
    {
     "data": {
      "text/html": [
       "<div>\n",
       "<style scoped>\n",
       "    .dataframe tbody tr th:only-of-type {\n",
       "        vertical-align: middle;\n",
       "    }\n",
       "\n",
       "    .dataframe tbody tr th {\n",
       "        vertical-align: top;\n",
       "    }\n",
       "\n",
       "    .dataframe thead th {\n",
       "        text-align: right;\n",
       "    }\n",
       "</style>\n",
       "<table border=\"1\" class=\"dataframe\">\n",
       "  <thead>\n",
       "    <tr style=\"text-align: right;\">\n",
       "      <th></th>\n",
       "      <th>nombre</th>\n",
       "      <th>a_p</th>\n",
       "      <th>a_m</th>\n",
       "      <th>calificacion</th>\n",
       "    </tr>\n",
       "  </thead>\n",
       "  <tbody>\n",
       "    <tr>\n",
       "      <th>0</th>\n",
       "      <td>Enrique</td>\n",
       "      <td>Gómez</td>\n",
       "      <td>Martinez</td>\n",
       "      <td>1.0</td>\n",
       "    </tr>\n",
       "  </tbody>\n",
       "</table>\n",
       "</div>"
      ],
      "text/plain": [
       "    nombre    a_p       a_m  calificacion\n",
       "0  Enrique  Gómez  Martinez           1.0"
      ]
     },
     "execution_count": 17,
     "metadata": {},
     "output_type": "execute_result"
    }
   ],
   "source": [
    "consulta()"
   ]
  },
  {
   "cell_type": "code",
   "execution_count": 18,
   "metadata": {},
   "outputs": [
    {
     "name": "stdout",
     "output_type": "stream",
     "text": [
      "Ingrese el número según la consulta que desee hacer \n",
      " 1: Categoría preferida de un cliente \n",
      " 2: Clientes que más difrutaron un libro\n",
      " 3: Mejores libros de una categoría \n",
      "3\n",
      "Ingrese la categoríaTeatro\n"
     ]
    },
    {
     "data": {
      "text/html": [
       "<div>\n",
       "<style scoped>\n",
       "    .dataframe tbody tr th:only-of-type {\n",
       "        vertical-align: middle;\n",
       "    }\n",
       "\n",
       "    .dataframe tbody tr th {\n",
       "        vertical-align: top;\n",
       "    }\n",
       "\n",
       "    .dataframe thead th {\n",
       "        text-align: right;\n",
       "    }\n",
       "</style>\n",
       "<table border=\"1\" class=\"dataframe\">\n",
       "  <thead>\n",
       "    <tr style=\"text-align: right;\">\n",
       "      <th></th>\n",
       "      <th>id_libro</th>\n",
       "      <th>titulo</th>\n",
       "      <th>cal</th>\n",
       "    </tr>\n",
       "  </thead>\n",
       "  <tbody>\n",
       "    <tr>\n",
       "      <th>1</th>\n",
       "      <td>62</td>\n",
       "      <td>Un hogar solido</td>\n",
       "      <td>5.0</td>\n",
       "    </tr>\n",
       "  </tbody>\n",
       "</table>\n",
       "</div>"
      ],
      "text/plain": [
       "   id_libro           titulo  cal\n",
       "1        62  Un hogar solido  5.0"
      ]
     },
     "execution_count": 18,
     "metadata": {},
     "output_type": "execute_result"
    }
   ],
   "source": [
    "consulta()"
   ]
  },
  {
   "cell_type": "markdown",
   "metadata": {},
   "source": [
    "### Ejemplo de Ingreso a la base de Datos"
   ]
  },
  {
   "cell_type": "code",
   "execution_count": 20,
   "metadata": {},
   "outputs": [
    {
     "name": "stdout",
     "output_type": "stream",
     "text": [
      "¿Tienes membresía? (Escribe Si o No) No\n",
      "Ingresa nombre Alejandro\n",
      "Ingresa apellido paterno Pimentel\n",
      "Ingresa apellido materno Alarcon\n",
      "Ingresa título Rebelión en la Granja\n",
      "Ingresa autor George Orwell\n",
      "Ingresa categoria Novela\n",
      "Ingresa calificación (Entre 0 y 5) 5\n",
      "Membresia: 18\n"
     ]
    }
   ],
   "source": [
    "ingresa_calif()"
   ]
  },
  {
   "cell_type": "code",
   "execution_count": 21,
   "metadata": {},
   "outputs": [
    {
     "name": "stdout",
     "output_type": "stream",
     "text": [
      "¿Tienes membresía? (Escribe Si o No) Si\n",
      "Ingresa numero de membresia 18\n",
      "Ingresa título 1984\n",
      "Ingresa autor George Orwell\n",
      "Ingresa categoria Novela\n",
      "Ingresa calificación (Entre 0 y 5) 1\n"
     ]
    }
   ],
   "source": [
    "ingresa_calif()"
   ]
  },
  {
   "cell_type": "code",
   "execution_count": null,
   "metadata": {},
   "outputs": [],
   "source": []
  }
 ],
 "metadata": {
  "interpreter": {
   "hash": "aee8b7b246df8f9039afb4144a1f6fd8d2ca17a180786b69acc140d282b71a49"
  },
  "kernelspec": {
   "display_name": "Python 3 (ipykernel)",
   "language": "python",
   "name": "python3"
  },
  "language_info": {
   "codemirror_mode": {
    "name": "ipython",
    "version": 3
   },
   "file_extension": ".py",
   "mimetype": "text/x-python",
   "name": "python",
   "nbconvert_exporter": "python",
   "pygments_lexer": "ipython3",
   "version": "3.9.7"
  }
 },
 "nbformat": 4,
 "nbformat_minor": 2
}
