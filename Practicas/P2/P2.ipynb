{
 "cells": [
  {
   "cell_type": "code",
   "execution_count": 25,
   "metadata": {},
   "outputs": [],
   "source": [
    "# Instalamos el driver de cassandra\n",
    "# sudo pip install cassandra-driver\n",
    "# sudo pip uninstall cassandra-driver"
   ]
  },
  {
   "cell_type": "code",
   "execution_count": 39,
   "metadata": {},
   "outputs": [],
   "source": [
    "# Vamos a importar\n",
    "from cassandra.cluster import Cluster\n",
    "# Vamos a conectarno a la base de datos:\n",
    "\n",
    "## Iniciareos el contenedor de Docker con la iagen de cassandra:\n",
    "'''\n",
    "docker pull cassandra\n",
    "\n",
    "Cluster: Para esta práctica solo usaremos un nodo\n",
    "docker run --name prueba -p 9042:9042 -e CASSANDRA_CLUSTER_NAME=MyCluster -e CASSANDRA_ENDPOINT_SNITCH=GossipingPropertyFileSnitch -e CASSANDRA_DC=datacenter1 -d cassandra\n",
    "\n",
    "docker run --name prac2 -p 9042:9042 -e CASSANDRA_CLUSTER_NAME=MyCluster -e CASSANDRA_ENDPOINT_SNITCH=GossipingPropertyFileSnitch -e CASSANDRA_DC=datacenter1 -d imagen-cassandra\n",
    "\n",
    "docker run --name prac2 -p 192.168.99.100:9042 -e CASSANDRA_CLUSTER_NAME=MyCluster -e CASSANDRA_ENDPOINT_SNITCH=GossipingPropertyFileSnitch -e CASSANDRA_DC=datacenter1 -d imagen-cassandra\n",
    "\n",
    "# Propuesta de Alejandro\n",
    "\n",
    "sudo docker run --name practica2 -p 127.0.0.1:9042:9042 -p 127.0.0.1:9160:9160 -d imagen-cassandra\n",
    "\n",
    "Conexión:\n",
    "docker exec -it prac2 bash\n",
    "\n",
    "Información del Nodo:\n",
    "nodetool status\n",
    "\n",
    "'''\n",
    "# Indicación de nuestra imagen\n",
    "\n",
    "cluster = Cluster(contact_points=['0.0.0.0'], port=9042)\n",
    "\n",
    "# Generar la conexión\n",
    "session = cluster.connect()"
   ]
  },
  {
   "cell_type": "code",
   "execution_count": null,
   "metadata": {},
   "outputs": [],
   "source": [
    "'''\n",
    "Creación del KEYSPACE:  que vamos a llamar peliculas\n",
    "y le vamos a poner una estrategia de replicación de tipo \n",
    "SimpleStrategy y con un factor de replicación igual a 1.\n",
    "'''\n",
    "session.execute(\"\"\"CREATE KEYSPACE base_datos WITH replication = {'class' : 'SimpleStrategy', 'replication_factor':1};\"\"\")\n"
   ]
  },
  {
   "cell_type": "markdown",
   "metadata": {},
   "source": [
    "### Creación de la Tablas."
   ]
  },
  {
   "cell_type": "code",
   "execution_count": 41,
   "metadata": {},
   "outputs": [],
   "source": [
    "# Seleccionamos el KEYSPACE\n",
    "session.set_keyspace('base_datos')"
   ]
  },
  {
   "cell_type": "code",
   "execution_count": null,
   "metadata": {},
   "outputs": [
    {
     "data": {
      "text/plain": [
       "<cassandra.cluster.ResultSet at 0x10ef53ac0>"
      ]
     },
     "execution_count": 20,
     "metadata": {},
     "output_type": "execute_result"
    }
   ],
   "source": [
    "# Creamos la tabla\n",
    "session.execute(\"\"\"\n",
    "                CREATE TABLE resenas (\n",
    "                    membresia int,\n",
    "                    id_libro int,\n",
    "                    titulo text,\n",
    "                    autor text, \n",
    "                    categoria text,\n",
    "                    calificacion float,\n",
    "                    nombre text STATIC,\n",
    "                    a_p text STATIC,\n",
    "                    a_m text STATIC,\n",
    "                    pais text STATIC,\n",
    "                    fechnac date STATIC,\n",
    "                    PRIMARY KEY (membresia, id_libro));\n",
    "                \"\"\")\n"
   ]
  },
  {
   "cell_type": "code",
   "execution_count": null,
   "metadata": {},
   "outputs": [
    {
     "data": {
      "text/plain": [
       "<cassandra.cluster.ResultSet at 0x10eefa3a0>"
      ]
     },
     "execution_count": 24,
     "metadata": {},
     "output_type": "execute_result"
    }
   ],
   "source": [
    "# Ingresemos los datos:\n",
    "\n",
    "session.execute(\"\"\"\n",
    "                INSERT INTO resenas(membresia,id_libro,titulo,autor,categoria,calificacion,nombre,a_p,a_m,pais,fechnac) VALUES (61682,5,'100 años de soledad','Gabriel García Marquez','Realismo Mágico',5.00,'Daniel','Fragoso','Alvarado','Mexico','2000-08-16');\n",
    "                \"\"\")"
   ]
  },
  {
   "cell_type": "code",
   "execution_count": null,
   "metadata": {},
   "outputs": [],
   "source": [
    "'''\n",
    "Ingresamos los datos:\n",
    "INSERT INTO resenas(membresia,id_libro,titulo,autor,categoria,calificacion,nombre,a_p,a_m,pais,fechnac) VALUES (61682,5,'100 años de soledad','Gabriel García Marquez','Realismo Mágico',5.00,'Daniel','Fragoso','Alvarado','Mexico','2000-08-16');\n",
    "INSERT INTO resenas(membresia,id_libro,titulo,autor,categoria,calificacion,nombre,a_p,a_m,pais,fechnac) VALUES (61683,6,'La casa de Bernarda Alba','Federico García Lorca','Autobiografía',5.00,'Enrique','Gómez','Martinez','Mexico','1999-07-10');\n",
    "INSERT INTO resenas(membresia,id_libro,titulo,autor,categoria,calificacion,nombre,a_p,a_m,pais,fechnac) VALUES (61684,7,'Una educación','Tara Westover','Ciencia Ficcion',5.00,'Hugo','Rangel','Ramirez','Mexico','2000-04-06');\n",
    "INSERT INTO resenas(membresia,id_libro,titulo,autor,categoria,calificacion,nombre,a_p,a_m,pais,fechnac) VALUES (61683,8,'Do androids dream of electric sheep?','Philip K. Dick','Novela',4.00,'Enrique','Gómez','Martinez','Mexico','1999-07-10');\n",
    "INSERT INTO resenas(membresia,id_libro,titulo,autor,categoria,calificacion,nombre,a_p,a_m,pais,fechnac) VALUES (61684,9,'Solo quedó nuestra historia','Adam Silvera','Cuento',3.00,'Hugo','Rangel','Ramirez','Mexico','2000-04-06');\n",
    "INSERT INTO resenas(membresia,id_libro,titulo,autor,categoria,calificacion,nombre,a_p,a_m,pais,fechnac) VALUES (61684,10,'El Tapiz Amarillo','Charlotte Perkins Gilman','Novela',4.00,'Hugo','Gómez','Martinez','Mexico','2000-04-06');\n",
    "INSERT INTO resenas(membresia,id_libro,titulo,autor,categoria,calificacion,nombre,a_p,a_m,pais,fechnac) VALUES (61683,11,'Lazarillo de Tormes','NULL','Novela',1.00,'Enrique','Gómez','Martinez','Mexico','1999-07-10');\n",
    "INSERT INTO resenas(membresia,id_libro,titulo,autor,categoria,calificacion,nombre,a_p,a_m,pais,fechnac) VALUES (61682,12,'La cancion de Aquiles','Madeline Miller','Novela',5.00,'Daniel','Fragoso','Alvarado','Mexico','2000-08-16');\n",
    "INSERT INTO resenas(membresia,id_libro,titulo,autor,categoria,calificacion,nombre,a_p,a_m,pais,fechnac) VALUES (61683,13,'Doña Perfecta','Benito Pérez Galdós','Cuento',4.00,'Enrique','Gómez','Martinez','Mexico','1999-07-10');\n",
    "INSERT INTO resenas(membresia,id_libro,titulo,autor,categoria,calificacion,nombre,a_p,a_m,pais,fechnac) VALUES (61684,14,'La metamorfosis','Franz Kafka','Cuento',4.00,'Hugo','Rangel','Ramirez','Mexico','2000-04-06');\n",
    "INSERT INTO resenas(membresia,id_libro,titulo,autor,categoria,calificacion,nombre,a_p,a_m,pais,fechnac) VALUES (61683,15,'Erecciones, eyaculaciones, exhibiciones','Charles Bukowski','Ciencia Ficcion',4.00,'Enrique','Gómez','Martinez','Mexico','1999-07-10');\n",
    "INSERT INTO resenas(membresia,id_libro,titulo,autor,categoria,calificacion,nombre,a_p,a_m,pais,fechnac) VALUES (61683,16,'Un mundo feliz','Aldous Huxley','Novela',5.00,'Enrique','Gómez','Martinez','Mexico','1999-07-10');\n",
    "INSERT INTO resenas(membresia,id_libro,titulo,autor,categoria,calificacion,nombre,a_p,a_m,pais,fechnac) VALUES (61683,17,'Ender''s Game','Orson Scott Card','Novela',3.00,'Enrique','Gómez','Martinez','Mexico','1999-07-10');\n",
    "INSERT INTO resenas(membresia,id_libro,titulo,autor,categoria,calificacion,nombre,a_p,a_m,pais,fechnac) VALUES (61682,18,'Pedro Paramo','Juan Rulfo','Novela',3.00,'Daniel','Fragoso','Alvarado','Mexico','2000-08-16');\n",
    "INSERT INTO resenas(membresia,id_libro,titulo,autor,categoria,calificacion,nombre,a_p,a_m,pais,fechnac) VALUES (61683,19,'Travesuras de la niña mala','Mario Vargas Llosa','Novela',5.00,'Enrique','Gómez','Martinez','Mexico','1999-07-10');\n",
    "INSERT INTO resenas(membresia,id_libro,titulo,autor,categoria,calificacion,nombre,a_p,a_m,pais,fechnac) VALUES (61684,12,'La cancion de Aquiles','Madeline Miller','Novela',4.00,'Hugo','Rangel','Ramirez','Mexico','2000-04-06');\n",
    "INSERT INTO resenas(membresia,id_libro,titulo,autor,categoria,calificacion,nombre,a_p,a_m,pais,fechnac) VALUES (61683,20,'El Periquillo de Sarniento','José Joaquín Fernández de Lizardi','Novela',2.00,'Enrique','Gómez','Martinez','Mexico','1999-07-10');\n",
    "\n",
    "INSERT INTO resenas(membresia,id_libro,titulo,autor,categoria,calificacion,nombre,a_p,a_m,pais,fechnac) VALUES (61685,21,'Exhalation','Ted Chiang','Cuento',4,'Fernando','Santa Rita','Vizuet','Mexico','1998-06-21');\n",
    "INSERT INTO resenas(membresia,id_libro,titulo,autor,categoria,calificacion,nombre,a_p,a_m,pais,fechnac) VALUES (61686,22,'1Q84','Haruki Murakami','Novela',5,'Guillermo','Andrés','Urbano','Mexico','1998-11-12');\n",
    "INSERT INTO resenas(membresia,id_libro,titulo,autor,categoria,calificacion,nombre,a_p,a_m,pais,fechnac) VALUES (61686,23,'El coronel no tiene quien le escriba','Gabriel García Márquez','Novela',4,'Guillermo','Andrés','Urbano','Mexico','1998-11-12');\n",
    "INSERT INTO resenas(membresia,id_libro,titulo,autor,categoria,calificacion,nombre,a_p,a_m,pais,fechnac) VALUES (61686,24,'El señor de las moscas','William Golding','Novela',4,'Guillermo','Andrés','Urbano','Mexico','1998-11-12');\n",
    "INSERT INTO resenas(membresia,id_libro,titulo,autor,categoria,calificacion,nombre,a_p,a_m,pais,fechnac) VALUES (61686,25,'La maquina del tiempo','H. G. Wells','Ciencia Ficcion',4,'Guillermo','Andrés','Urbano','Mexico','1998-11-12');\n",
    "INSERT INTO resenas(membresia,id_libro,titulo,autor,categoria,calificacion,nombre,a_p,a_m,pais,fechnac) VALUES (61686,26,'La guerra de los mundos','H. G. Wells','Ciencia Ficcion',4,'Guillermo','Andrés','Urbano','Mexico','1998-11-12');\n",
    "INSERT INTO resenas(membresia,id_libro,titulo,autor,categoria,calificacion,nombre,a_p,a_m,pais,fechnac) VALUES (61687,27,'Bajo la rueda','Hermann Hesse','Novela',4,'Fernando','Avitúa','Varela','Mexico','1989-05-14');\n",
    "INSERT INTO resenas(membresia,id_libro,titulo,autor,categoria,calificacion,nombre,a_p,a_m,pais,fechnac) VALUES (61687,28,'Siddharta','Hermann Hesse','Novela',5,'Fernando','Avitúa','Varela','Mexico','1989-05-14');\n",
    "INSERT INTO resenas(membresia,id_libro,titulo,autor,categoria,calificacion,nombre,a_p,a_m,pais,fechnac) VALUES (61687,29,'El Lobo Estepario','Hermann Hesse','Novela',5,'Fernando','Avitúa','Varela','Mexico','1989-05-14');\n",
    "INSERT INTO resenas(membresia,id_libro,titulo,autor,categoria,calificacion,nombre,a_p,a_m,pais,fechnac) VALUES (61687,30,'One Shot','Lee Child','Suspenso',4,'Fernando','Avitúa','Varela','Mexico','1989-05-14');\n",
    "INSERT INTO resenas(membresia,id_libro,titulo,autor,categoria,calificacion,nombre,a_p,a_m,pais,fechnac) VALUES (61687,20,'El Periquillo de Sarniento','José Joaquín Fernández de Lizardi','Novela',4,'Fernando','Avitúa','Varela','Mexico','1989-05-14');\n",
    "INSERT INTO resenas(membresia,id_libro,titulo,autor,categoria,calificacion,nombre,a_p,a_m,pais,fechnac) VALUES (61688,31,'Harry Potter','J. K. Rowling','Fantasia',5,'Yeudiel','Lara','Moreno','Mexico','2000-04-06');\n",
    "INSERT INTO resenas(membresia,id_libro,titulo,autor,categoria,calificacion,nombre,a_p,a_m,pais,fechnac) VALUES (61689,30,'One Shot','Lee Child','Suspenso',5,'Eduardo','Garduño','Martinez','Mexico','1999-12-04');\n",
    "INSERT INTO resenas(membresia,id_libro,titulo,autor,categoria,calificacion,nombre,a_p,a_m,pais,fechnac) VALUES (61685,33,'On the road','Jack Kerouac','Novela',5,'Fernando','Santa Rita','Vizuet','Mexico','1998-06-21');\n",
    "INSERT INTO resenas(membresia,id_libro,titulo,autor,categoria,calificacion,nombre,a_p,a_m,pais,fechnac) VALUES (61690,34,'The Pillars of the Earth','Ken Follett','Novela',4,'Edgar','Callejas','Hernandez','Mexico','2001-08-06');\n",
    "'''"
   ]
  },
  {
   "cell_type": "markdown",
   "metadata": {},
   "source": [
    "Por la naturaleza de Cassandra vamos a pensar primero en la consulta antes de generar la tabla:\n",
    "\n",
    "1. La categoría preferida de un cliente dado."
   ]
  },
  {
   "cell_type": "code",
   "execution_count": 49,
   "metadata": {},
   "outputs": [],
   "source": [
    "import pandas as pd"
   ]
  },
  {
   "cell_type": "code",
   "execution_count": 43,
   "metadata": {},
   "outputs": [
    {
     "data": {
      "text/plain": [
       "<cassandra.cluster.ResultSet at 0x10fab0280>"
      ]
     },
     "execution_count": 43,
     "metadata": {},
     "output_type": "execute_result"
    }
   ],
   "source": [
    "# Creamos la tabla\n",
    "session.execute(\"\"\"\n",
    "                CREATE TABLE con1 (\n",
    "                    membresia int,\n",
    "                    id_libro int,\n",
    "                    titulo text,\n",
    "                    autor text, \n",
    "                    categoria text,\n",
    "                    calificacion float,\n",
    "                    nombre text STATIC,\n",
    "                    a_p text STATIC,\n",
    "                    a_m text STATIC,\n",
    "                    pais text STATIC,\n",
    "                    fechnac date STATIC,\n",
    "                    PRIMARY KEY (membresia, categoria, id_libro));\n",
    "                \"\"\")\n"
   ]
  },
  {
   "cell_type": "code",
   "execution_count": 53,
   "metadata": {},
   "outputs": [
    {
     "data": {
      "text/plain": [
       "categoria    Novela\n",
       "cal             5.0\n",
       "dtype: object"
      ]
     },
     "execution_count": 53,
     "metadata": {},
     "output_type": "execute_result"
    }
   ],
   "source": [
    "'''\n",
    "Kike = 61683\n",
    "'''\n",
    "\n",
    "kike = session.execute(\"\"\"\n",
    "                SELECT categoria, AVG(calificacion) AS cal FROM con1 WHERE membresia = 61683 GROUP BY categoria;\n",
    "                \"\"\")\n",
    "\n",
    "df = pd.DataFrame(list(kike))\n",
    "\n",
    "# Obtengamos aquellas categorias que mejor evaluadas han sido:\n",
    "\n",
    "df.max()"
   ]
  },
  {
   "cell_type": "code",
   "execution_count": 54,
   "metadata": {},
   "outputs": [
    {
     "data": {
      "text/plain": [
       "categoria      Novela\n",
       "cal          4.333333\n",
       "dtype: object"
      ]
     },
     "execution_count": 54,
     "metadata": {},
     "output_type": "execute_result"
    }
   ],
   "source": [
    "'''\n",
    "Guille = 61686\n",
    "'''\n",
    "\n",
    "guille = session.execute(\"\"\"\n",
    "                SELECT categoria, AVG(calificacion) AS cal FROM con1 WHERE membresia = 61686 GROUP BY categoria;\n",
    "                \"\"\")\n",
    "\n",
    "df = pd.DataFrame(list(guille))\n",
    "\n",
    "# Obtengamos aquellas categorias que mejor evaluadas han sido:\n",
    "\n",
    "df.max()"
   ]
  },
  {
   "cell_type": "code",
   "execution_count": null,
   "metadata": {},
   "outputs": [],
   "source": [
    "'''\n",
    "Podemos consultar las tablas creadas con:\n",
    "DESCRIBE tables\n",
    "\n",
    "Vamos a activar la vista materialziada\n",
    "\n",
    "'''\n",
    "\n",
    "# Creamos la vista materializada\n",
    "session.execute(\"\"\"\n",
    "                CREATE MATERIALIZED VIEW top AS SELECT\n",
    "                membresia, id_libro, categoria, calificacion, titulo, autor\n",
    "                FROM resenas WHERE membresia IS NOT NULL AND id_libro IS NOT NULL AND\n",
    "                categoria IS NOT NULL AND calificacion IS NOT NULL AND titulo IS NOT NULL AND \n",
    "                autor IS NOT NULL PRIMARY KEY (categoria, id_libro, membresia);\n",
    "                \"\"\")"
   ]
  },
  {
   "cell_type": "markdown",
   "metadata": {},
   "source": [
    "2. Obtener los clientes que más disfrutaron un libro dado."
   ]
  },
  {
   "cell_type": "code",
   "execution_count": 84,
   "metadata": {},
   "outputs": [
    {
     "data": {
      "text/plain": [
       "<cassandra.cluster.ResultSet at 0x117cd8670>"
      ]
     },
     "execution_count": 84,
     "metadata": {},
     "output_type": "execute_result"
    }
   ],
   "source": [
    "# Creamos la tabla\n",
    "session.execute(\"\"\"\n",
    "                CREATE TABLE con2 (\n",
    "                    membresia int,\n",
    "                    id_libro int,\n",
    "                    titulo text,\n",
    "                    autor text, \n",
    "                    categoria text,\n",
    "                    calificacion float,\n",
    "                    nombre text,\n",
    "                    a_p text,\n",
    "                    a_m text,\n",
    "                    pais text STATIC,\n",
    "                    fechnac date,\n",
    "                    PRIMARY KEY (id_libro, membresia));\n",
    "                \"\"\")"
   ]
  },
  {
   "cell_type": "code",
   "execution_count": 97,
   "metadata": {},
   "outputs": [
    {
     "data": {
      "text/html": [
       "<div>\n",
       "<style scoped>\n",
       "    .dataframe tbody tr th:only-of-type {\n",
       "        vertical-align: middle;\n",
       "    }\n",
       "\n",
       "    .dataframe tbody tr th {\n",
       "        vertical-align: top;\n",
       "    }\n",
       "\n",
       "    .dataframe thead th {\n",
       "        text-align: right;\n",
       "    }\n",
       "</style>\n",
       "<table border=\"1\" class=\"dataframe\">\n",
       "  <thead>\n",
       "    <tr style=\"text-align: right;\">\n",
       "      <th></th>\n",
       "      <th>nombre</th>\n",
       "      <th>a_p</th>\n",
       "      <th>a_m</th>\n",
       "      <th>calificacion</th>\n",
       "    </tr>\n",
       "  </thead>\n",
       "  <tbody>\n",
       "    <tr>\n",
       "      <th>0</th>\n",
       "      <td>Daniel</td>\n",
       "      <td>Fragoso</td>\n",
       "      <td>Alvarado</td>\n",
       "      <td>5.0</td>\n",
       "    </tr>\n",
       "  </tbody>\n",
       "</table>\n",
       "</div>"
      ],
      "text/plain": [
       "   nombre      a_p       a_m  calificacion\n",
       "0  Daniel  Fragoso  Alvarado           5.0"
      ]
     },
     "execution_count": 97,
     "metadata": {},
     "output_type": "execute_result"
    }
   ],
   "source": [
    "'''\n",
    "La cancion de Aquiles : 12\n",
    "'''\n",
    "\n",
    "aquiles_song = session.execute(\"\"\"\n",
    "                SELECT nombre, a_p, a_m, calificacion FROM con2 WHERE id_libro = 12;\n",
    "                \"\"\")\n",
    "\n",
    "df = pd.DataFrame(list(aquiles_song))\n",
    "\n",
    "# Obtengamos el usuario(s)\n",
    "df[df.calificacion == df.calificacion.max()]\n",
    "\n",
    "#df"
   ]
  },
  {
   "cell_type": "code",
   "execution_count": 100,
   "metadata": {},
   "outputs": [
    {
     "data": {
      "text/html": [
       "<div>\n",
       "<style scoped>\n",
       "    .dataframe tbody tr th:only-of-type {\n",
       "        vertical-align: middle;\n",
       "    }\n",
       "\n",
       "    .dataframe tbody tr th {\n",
       "        vertical-align: top;\n",
       "    }\n",
       "\n",
       "    .dataframe thead th {\n",
       "        text-align: right;\n",
       "    }\n",
       "</style>\n",
       "<table border=\"1\" class=\"dataframe\">\n",
       "  <thead>\n",
       "    <tr style=\"text-align: right;\">\n",
       "      <th></th>\n",
       "      <th>nombre</th>\n",
       "      <th>a_p</th>\n",
       "      <th>a_m</th>\n",
       "      <th>calificacion</th>\n",
       "    </tr>\n",
       "  </thead>\n",
       "  <tbody>\n",
       "    <tr>\n",
       "      <th>1</th>\n",
       "      <td>Fernando</td>\n",
       "      <td>Avitúa</td>\n",
       "      <td>Varela</td>\n",
       "      <td>4.0</td>\n",
       "    </tr>\n",
       "  </tbody>\n",
       "</table>\n",
       "</div>"
      ],
      "text/plain": [
       "     nombre     a_p     a_m  calificacion\n",
       "1  Fernando  Avitúa  Varela           4.0"
      ]
     },
     "execution_count": 100,
     "metadata": {},
     "output_type": "execute_result"
    }
   ],
   "source": [
    "'''\n",
    "El Periquillo de Sarniento : 20\n",
    "'''\n",
    "\n",
    "p_sarmiento = session.execute(\"\"\"\n",
    "                SELECT nombre, a_p, a_m, calificacion FROM con2 WHERE id_libro = 20;\n",
    "                \"\"\")\n",
    "\n",
    "df = pd.DataFrame(list(p_sarmiento))\n",
    "\n",
    "# Obtengamos el usuario(s)\n",
    "df[df.calificacion == df.calificacion.max()]"
   ]
  },
  {
   "cell_type": "markdown",
   "metadata": {},
   "source": [
    "3. Los mejores libros de una categoría dada."
   ]
  },
  {
   "cell_type": "code",
   "execution_count": 104,
   "metadata": {},
   "outputs": [
    {
     "data": {
      "text/plain": [
       "<cassandra.cluster.ResultSet at 0x117c225b0>"
      ]
     },
     "execution_count": 104,
     "metadata": {},
     "output_type": "execute_result"
    }
   ],
   "source": [
    "# Creamos la tabla\n",
    "session.execute(\"\"\"\n",
    "                CREATE TABLE con3 (\n",
    "                    membresia int,\n",
    "                    id_libro int,\n",
    "                    titulo text,\n",
    "                    autor text, \n",
    "                    categoria text,\n",
    "                    calificacion float,\n",
    "                    nombre text,\n",
    "                    a_p text,\n",
    "                    a_m text,\n",
    "                    pais text STATIC,\n",
    "                    fechnac date,\n",
    "                    PRIMARY KEY (categoria, id_libro, membresia));\n",
    "                \"\"\")"
   ]
  },
  {
   "cell_type": "code",
   "execution_count": 107,
   "metadata": {},
   "outputs": [
    {
     "data": {
      "text/html": [
       "<div>\n",
       "<style scoped>\n",
       "    .dataframe tbody tr th:only-of-type {\n",
       "        vertical-align: middle;\n",
       "    }\n",
       "\n",
       "    .dataframe tbody tr th {\n",
       "        vertical-align: top;\n",
       "    }\n",
       "\n",
       "    .dataframe thead th {\n",
       "        text-align: right;\n",
       "    }\n",
       "</style>\n",
       "<table border=\"1\" class=\"dataframe\">\n",
       "  <thead>\n",
       "    <tr style=\"text-align: right;\">\n",
       "      <th></th>\n",
       "      <th>id_libro</th>\n",
       "      <th>titulo</th>\n",
       "      <th>cal</th>\n",
       "    </tr>\n",
       "  </thead>\n",
       "  <tbody>\n",
       "    <tr>\n",
       "      <th>4</th>\n",
       "      <td>16</td>\n",
       "      <td>Un mundo feliz</td>\n",
       "      <td>5.0</td>\n",
       "    </tr>\n",
       "    <tr>\n",
       "      <th>7</th>\n",
       "      <td>19</td>\n",
       "      <td>Travesuras de la niña mala</td>\n",
       "      <td>5.0</td>\n",
       "    </tr>\n",
       "    <tr>\n",
       "      <th>9</th>\n",
       "      <td>22</td>\n",
       "      <td>1Q84</td>\n",
       "      <td>5.0</td>\n",
       "    </tr>\n",
       "    <tr>\n",
       "      <th>13</th>\n",
       "      <td>28</td>\n",
       "      <td>Siddharta</td>\n",
       "      <td>5.0</td>\n",
       "    </tr>\n",
       "    <tr>\n",
       "      <th>14</th>\n",
       "      <td>29</td>\n",
       "      <td>El Lobo Estepario</td>\n",
       "      <td>5.0</td>\n",
       "    </tr>\n",
       "    <tr>\n",
       "      <th>15</th>\n",
       "      <td>33</td>\n",
       "      <td>On the road</td>\n",
       "      <td>5.0</td>\n",
       "    </tr>\n",
       "  </tbody>\n",
       "</table>\n",
       "</div>"
      ],
      "text/plain": [
       "    id_libro                      titulo  cal\n",
       "4         16              Un mundo feliz  5.0\n",
       "7         19  Travesuras de la niña mala  5.0\n",
       "9         22                        1Q84  5.0\n",
       "13        28                   Siddharta  5.0\n",
       "14        29           El Lobo Estepario  5.0\n",
       "15        33                 On the road  5.0"
      ]
     },
     "execution_count": 107,
     "metadata": {},
     "output_type": "execute_result"
    }
   ],
   "source": [
    "'''\n",
    "Novela\n",
    "'''\n",
    "\n",
    "novela = session.execute(\"\"\"\n",
    "                SELECT id_libro, titulo,  AVG(calificacion) AS cal FROM con3 WHERE categoria = 'Novela' GROUP BY id_libro;\n",
    "                \"\"\")\n",
    "\n",
    "df = pd.DataFrame(list(novela))\n",
    "\n",
    "# Obtengamos el los mejores\n",
    "df[df.cal == df.cal.max()]"
   ]
  },
  {
   "cell_type": "code",
   "execution_count": 108,
   "metadata": {},
   "outputs": [
    {
     "data": {
      "text/html": [
       "<div>\n",
       "<style scoped>\n",
       "    .dataframe tbody tr th:only-of-type {\n",
       "        vertical-align: middle;\n",
       "    }\n",
       "\n",
       "    .dataframe tbody tr th {\n",
       "        vertical-align: top;\n",
       "    }\n",
       "\n",
       "    .dataframe thead th {\n",
       "        text-align: right;\n",
       "    }\n",
       "</style>\n",
       "<table border=\"1\" class=\"dataframe\">\n",
       "  <thead>\n",
       "    <tr style=\"text-align: right;\">\n",
       "      <th></th>\n",
       "      <th>id_libro</th>\n",
       "      <th>titulo</th>\n",
       "      <th>cal</th>\n",
       "    </tr>\n",
       "  </thead>\n",
       "  <tbody>\n",
       "    <tr>\n",
       "      <th>0</th>\n",
       "      <td>7</td>\n",
       "      <td>Una educación</td>\n",
       "      <td>5.0</td>\n",
       "    </tr>\n",
       "  </tbody>\n",
       "</table>\n",
       "</div>"
      ],
      "text/plain": [
       "   id_libro         titulo  cal\n",
       "0         7  Una educación  5.0"
      ]
     },
     "execution_count": 108,
     "metadata": {},
     "output_type": "execute_result"
    }
   ],
   "source": [
    "'''\n",
    "Ciencia Ficcion\n",
    "'''\n",
    "\n",
    "novela = session.execute(\"\"\"\n",
    "                SELECT id_libro, titulo,  AVG(calificacion) AS cal FROM con3 WHERE categoria = 'Ciencia Ficcion' GROUP BY id_libro;\n",
    "                \"\"\")\n",
    "\n",
    "df = pd.DataFrame(list(novela))\n",
    "\n",
    "# Obtengamos el los mejores\n",
    "df[df.cal == df.cal.max()]"
   ]
  },
  {
   "cell_type": "code",
   "execution_count": 28,
   "metadata": {},
   "outputs": [],
   "source": [
    "cluster.shutdown()"
   ]
  }
 ],
 "metadata": {
  "interpreter": {
   "hash": "aee8b7b246df8f9039afb4144a1f6fd8d2ca17a180786b69acc140d282b71a49"
  },
  "kernelspec": {
   "display_name": "Python 3.9.10 64-bit",
   "language": "python",
   "name": "python3"
  },
  "language_info": {
   "codemirror_mode": {
    "name": "ipython",
    "version": 3
   },
   "file_extension": ".py",
   "mimetype": "text/x-python",
   "name": "python",
   "nbconvert_exporter": "python",
   "pygments_lexer": "ipython3",
   "version": "3.9.10"
  },
  "orig_nbformat": 4
 },
 "nbformat": 4,
 "nbformat_minor": 2
}
