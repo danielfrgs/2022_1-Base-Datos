{
 "cells": [
  {
   "cell_type": "code",
   "execution_count": 4,
   "metadata": {},
   "outputs": [],
   "source": [
    "# Instalamos el driver de cassandra\n",
    "# sudo pip install cassandra-driver"
   ]
  },
  {
   "cell_type": "code",
   "execution_count": 10,
   "metadata": {},
   "outputs": [],
   "source": [
    "# Vamos a importar\n",
    "from cassandra.cluster import Cluster\n",
    "# Vamos a conectarno a la base de datos:\n",
    "\n",
    "## Iniciareos el contenedor de Docker con la iagen de cassandra:\n",
    "'''\n",
    "docker pull cassandra\n",
    "\n",
    "Cluster: Para esta práctica solo usaremos un nodo\n",
    "docker run --name prac2 -p 9042:9042 -e CASSANDRA_CLUSTER_NAME=MyCluster -e CASSANDRA_ENDPOINT_SNITCH=GossipingPropertyFileSnitch -e CASSANDRA_DC=datacenter1 -d cassandra\n",
    "\n",
    "Conexión:\n",
    "docker exec -it prac2 bash\n",
    "\n",
    "Información del Nodo:\n",
    "nodetool status\n",
    "\n",
    "'''\n",
    "# Indicación de nuestra imagen\n",
    "\n",
    "cluster = Cluster(contact_points=['0.0.0.0'], port=9042)\n",
    "\n",
    "# Generar la conexión\n",
    "session = cluster.connect()"
   ]
  },
  {
   "cell_type": "code",
   "execution_count": 11,
   "metadata": {},
   "outputs": [
    {
     "data": {
      "text/plain": [
       "<cassandra.cluster.ResultSet at 0x11118e340>"
      ]
     },
     "execution_count": 11,
     "metadata": {},
     "output_type": "execute_result"
    }
   ],
   "source": [
    "'''\n",
    "Creación del KEYSPACE:  que vamos a llamar peliculas\n",
    "y le vamos a poner una estrategia de replicación de tipo \n",
    "SimpleStrategy y con un factor de replicación igual a 1.\n",
    "'''\n",
    "session.execute(\"\"\"CREATE KEYSPACE peliculas WITH replication = {'class' : 'SimpleStrategy', 'replication_factor':1};\"\"\")\n"
   ]
  },
  {
   "cell_type": "markdown",
   "metadata": {},
   "source": [
    "### Creación de la Tablas."
   ]
  },
  {
   "cell_type": "code",
   "execution_count": 21,
   "metadata": {},
   "outputs": [
    {
     "data": {
      "text/plain": [
       "<cassandra.cluster.ResultSet at 0x110e33940>"
      ]
     },
     "execution_count": 21,
     "metadata": {},
     "output_type": "execute_result"
    }
   ],
   "source": [
    "# Seleccionamos el KEYSPACE\n",
    "session.set_keyspace('peliculas')\n",
    "\n",
    "# Creamos la tabla\n",
    "session.execute(\"\"\"\n",
    "                CREATE TABLE usuarios (\n",
    "                    membresia int,\n",
    "                    nombre text,\n",
    "                    a_p text,\n",
    "                    a_m text,\n",
    "                    pais text,\n",
    "                    fechnac timestamp,\n",
    "                    id int,\n",
    "                    titulo text,\n",
    "                    autor text, \n",
    "                    categoria text,\n",
    "                    calificacion float,\n",
    "                    PRIMARY KEY (membresia, id));\n",
    "                \"\"\")\n"
   ]
  },
  {
   "cell_type": "code",
   "execution_count": null,
   "metadata": {},
   "outputs": [],
   "source": [
    "'''\n",
    "Podemos consultar las tablas creadas con:\n",
    "DESCRIBE tables\n",
    "'''"
   ]
  }
 ],
 "metadata": {
  "interpreter": {
   "hash": "aee8b7b246df8f9039afb4144a1f6fd8d2ca17a180786b69acc140d282b71a49"
  },
  "kernelspec": {
   "display_name": "Python 3.9.10 64-bit",
   "language": "python",
   "name": "python3"
  },
  "language_info": {
   "codemirror_mode": {
    "name": "ipython",
    "version": 3
   },
   "file_extension": ".py",
   "mimetype": "text/x-python",
   "name": "python",
   "nbconvert_exporter": "python",
   "pygments_lexer": "ipython3",
   "version": "3.9.10"
  },
  "orig_nbformat": 4
 },
 "nbformat": 4,
 "nbformat_minor": 2
}
